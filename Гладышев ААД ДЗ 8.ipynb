{
 "cells": [
  {
   "cell_type": "code",
   "execution_count": 26,
   "metadata": {
    "_cell_guid": "b1076dfc-b9ad-4769-8c92-a6c4dae69d19",
    "_uuid": "8f2839f25d086af736a60e9eeb907d3b93b6e0e5"
   },
   "outputs": [],
   "source": [
    "# This Python 3 environment comes with many helpful analytics libraries installed\n",
    "# It is defined by the kaggle/python docker image: https://github.com/kaggle/docker-python\n",
    "# For example, here's several helpful packages to load in \n",
    "\n",
    "import numpy as np # linear algebra\n",
    "import pandas as pd # data processing, CSV file I/O (e.g. pd.read_csv)\n",
    "\n",
    "from sklearn.model_selection import train_test_split\n",
    "import matplotlib.pyplot as plt\n",
    "import seaborn as sns\n",
    "\n",
    "# Input data files are available in the \"../input/\" directory.\n",
    "# For example, running this (by clicking run or pressing Shift+Enter) will list all files under the input directory\n",
    "\n",
    "# import os\n",
    "# for dirname, _, filenames in os.walk('/kaggle/input'):\n",
    "#     for filename in filenames:\n",
    "#         print(os.path.join(dirname, filename))\n",
    "\n",
    "# Any results you write to the current directory are saved as output."
   ]
  },
  {
   "cell_type": "markdown",
   "metadata": {},
   "source": [
    "# ДЗ №8 Гладышев В.В."
   ]
  },
  {
   "cell_type": "markdown",
   "metadata": {},
   "source": [
    "## Задание № 1"
   ]
  },
  {
   "cell_type": "markdown",
   "metadata": {},
   "source": [
    "Можно ли отобрать наиболее значимые признаки с помощью PCA?"
   ]
  },
  {
   "cell_type": "markdown",
   "metadata": {},
   "source": [
    "При определении главных компонент находятся собственные значения и доля дисперсии для каждого признака. Соответственно производится отбор наиболее значимых признаков"
   ]
  },
  {
   "cell_type": "markdown",
   "metadata": {},
   "source": [
    "## Задание № 2"
   ]
  },
  {
   "cell_type": "markdown",
   "metadata": {},
   "source": [
    "Примите участие в одном или двух соревнованиях и пришлите\n",
    "\n",
    "свой псевдоним на Kaggle и ссылку на github с решением соревнования"
   ]
  },
  {
   "cell_type": "markdown",
   "metadata": {},
   "source": [
    "Аккаунт: https://www.kaggle.com/vitalygladyshev/account\n",
    "\n",
    "User Name\n",
    "vitalygladyshev "
   ]
  },
  {
   "cell_type": "markdown",
   "metadata": {},
   "source": [
    "# Choose tutors"
   ]
  },
  {
   "cell_type": "markdown",
   "metadata": {},
   "source": [
    "## Загрузка и подготовка данных"
   ]
  },
  {
   "cell_type": "code",
   "execution_count": 27,
   "metadata": {},
   "outputs": [],
   "source": [
    "data_c = pd.read_csv(\"train_c.csv\", sep=\",\")"
   ]
  },
  {
   "cell_type": "code",
   "execution_count": 28,
   "metadata": {},
   "outputs": [
    {
     "name": "stdout",
     "output_type": "stream",
     "text": [
      "<class 'pandas.core.frame.DataFrame'>\n",
      "RangeIndex: 10000 entries, 0 to 9999\n",
      "Data columns (total 13 columns):\n",
      "Id                     10000 non-null int64\n",
      "age                    10000 non-null float64\n",
      "years_of_experience    10000 non-null float64\n",
      "lesson_price           10000 non-null float64\n",
      "qualification          10000 non-null float64\n",
      "physics                10000 non-null float64\n",
      "chemistry              10000 non-null float64\n",
      "biology                10000 non-null float64\n",
      "english                10000 non-null float64\n",
      "geography              10000 non-null float64\n",
      "history                10000 non-null float64\n",
      "mean_exam_points       10000 non-null float64\n",
      "choose                 10000 non-null int64\n",
      "dtypes: float64(11), int64(2)\n",
      "memory usage: 1015.7 KB\n"
     ]
    }
   ],
   "source": [
    "data_c.info()"
   ]
  },
  {
   "cell_type": "code",
   "execution_count": 29,
   "metadata": {},
   "outputs": [
    {
     "name": "stdout",
     "output_type": "stream",
     "text": [
      "<class 'pandas.core.frame.DataFrame'>\n",
      "RangeIndex: 10000 entries, 0 to 9999\n",
      "Data columns (total 11 columns):\n",
      "age                    10000 non-null float64\n",
      "years_of_experience    10000 non-null float64\n",
      "lesson_price           10000 non-null float64\n",
      "qualification          10000 non-null float64\n",
      "physics                10000 non-null float64\n",
      "chemistry              10000 non-null float64\n",
      "biology                10000 non-null float64\n",
      "english                10000 non-null float64\n",
      "geography              10000 non-null float64\n",
      "history                10000 non-null float64\n",
      "mean_exam_points       10000 non-null float64\n",
      "dtypes: float64(11)\n",
      "memory usage: 859.5 KB\n"
     ]
    }
   ],
   "source": [
    "X_c = data_c.drop(['Id', 'choose'], axis = 1)\n",
    "X_c.info()"
   ]
  },
  {
   "cell_type": "code",
   "execution_count": 30,
   "metadata": {},
   "outputs": [
    {
     "data": {
      "text/plain": [
       "array([[3.50e+01, 0.00e+00, 2.15e+03, ..., 0.00e+00, 0.00e+00, 7.40e+01],\n",
       "       [5.20e+01, 2.00e+00, 1.25e+03, ..., 0.00e+00, 1.00e+00, 5.70e+01],\n",
       "       [2.90e+01, 3.00e+00, 1.75e+03, ..., 0.00e+00, 0.00e+00, 6.60e+01],\n",
       "       ...,\n",
       "       [4.40e+01, 5.00e+00, 1.75e+03, ..., 0.00e+00, 1.00e+00, 5.90e+01],\n",
       "       [4.10e+01, 0.00e+00, 1.70e+03, ..., 0.00e+00, 0.00e+00, 7.20e+01],\n",
       "       [4.10e+01, 5.00e+00, 1.20e+03, ..., 0.00e+00, 0.00e+00, 4.00e+01]])"
      ]
     },
     "execution_count": 30,
     "metadata": {},
     "output_type": "execute_result"
    }
   ],
   "source": [
    "X_c = X_c.values\n",
    "X_c"
   ]
  },
  {
   "cell_type": "code",
   "execution_count": 31,
   "metadata": {},
   "outputs": [
    {
     "name": "stdout",
     "output_type": "stream",
     "text": [
      "<class 'pandas.core.frame.DataFrame'>\n",
      "RangeIndex: 10000 entries, 0 to 9999\n",
      "Data columns (total 1 columns):\n",
      "choose    10000 non-null int64\n",
      "dtypes: int64(1)\n",
      "memory usage: 78.2 KB\n"
     ]
    }
   ],
   "source": [
    "y_c = data_c[['choose']]\n",
    "y_c.info()"
   ]
  },
  {
   "cell_type": "code",
   "execution_count": 32,
   "metadata": {},
   "outputs": [
    {
     "data": {
      "text/plain": [
       "array([0, 1, 0, ..., 0, 0, 0], dtype=int64)"
      ]
     },
     "execution_count": 32,
     "metadata": {},
     "output_type": "execute_result"
    }
   ],
   "source": [
    "y_c = y_c.values.flatten()\n",
    "y_c"
   ]
  },
  {
   "cell_type": "code",
   "execution_count": 33,
   "metadata": {},
   "outputs": [
    {
     "name": "stdout",
     "output_type": "stream",
     "text": [
      "<class 'pandas.core.frame.DataFrame'>\n",
      "RangeIndex: 10000 entries, 0 to 9999\n",
      "Data columns (total 12 columns):\n",
      "Id                     10000 non-null int64\n",
      "age                    10000 non-null float64\n",
      "years_of_experience    10000 non-null float64\n",
      "lesson_price           10000 non-null float64\n",
      "qualification          10000 non-null float64\n",
      "physics                10000 non-null float64\n",
      "chemistry              10000 non-null float64\n",
      "biology                10000 non-null float64\n",
      "english                10000 non-null float64\n",
      "geography              10000 non-null float64\n",
      "history                10000 non-null float64\n",
      "mean_exam_points       10000 non-null float64\n",
      "dtypes: float64(11), int64(1)\n",
      "memory usage: 937.6 KB\n"
     ]
    }
   ],
   "source": [
    "test_c = pd.read_csv(\"test_c.csv\", sep=\",\")\n",
    "test_c.info()"
   ]
  },
  {
   "cell_type": "code",
   "execution_count": 34,
   "metadata": {},
   "outputs": [
    {
     "name": "stdout",
     "output_type": "stream",
     "text": [
      "<class 'pandas.core.frame.DataFrame'>\n",
      "RangeIndex: 10000 entries, 0 to 9999\n",
      "Data columns (total 11 columns):\n",
      "age                    10000 non-null float64\n",
      "years_of_experience    10000 non-null float64\n",
      "lesson_price           10000 non-null float64\n",
      "qualification          10000 non-null float64\n",
      "physics                10000 non-null float64\n",
      "chemistry              10000 non-null float64\n",
      "biology                10000 non-null float64\n",
      "english                10000 non-null float64\n",
      "geography              10000 non-null float64\n",
      "history                10000 non-null float64\n",
      "mean_exam_points       10000 non-null float64\n",
      "dtypes: float64(11)\n",
      "memory usage: 859.5 KB\n"
     ]
    }
   ],
   "source": [
    "test_X_c = test_c.drop(['Id'], axis = 1)\n",
    "test_X_c.info()"
   ]
  },
  {
   "cell_type": "code",
   "execution_count": 35,
   "metadata": {},
   "outputs": [
    {
     "data": {
      "text/plain": [
       "array([[3.20e+01, 2.00e+00, 2.70e+03, ..., 0.00e+00, 0.00e+00, 9.00e+01],\n",
       "       [3.50e+01, 6.00e+00, 1.80e+03, ..., 0.00e+00, 0.00e+00, 7.10e+01],\n",
       "       [4.40e+01, 2.00e+00, 1.20e+03, ..., 0.00e+00, 0.00e+00, 4.50e+01],\n",
       "       ...,\n",
       "       [4.40e+01, 2.00e+00, 1.25e+03, ..., 0.00e+00, 0.00e+00, 6.30e+01],\n",
       "       [5.10e+01, 5.00e+00, 1.00e+03, ..., 0.00e+00, 0.00e+00, 6.40e+01],\n",
       "       [4.30e+01, 0.00e+00, 1.50e+03, ..., 0.00e+00, 0.00e+00, 4.10e+01]])"
      ]
     },
     "execution_count": 35,
     "metadata": {},
     "output_type": "execute_result"
    }
   ],
   "source": [
    "test_X_c = test_X_c.values\n",
    "test_X_c"
   ]
  },
  {
   "cell_type": "markdown",
   "metadata": {},
   "source": [
    "## XGBoost"
   ]
  },
  {
   "cell_type": "code",
   "execution_count": 36,
   "metadata": {},
   "outputs": [],
   "source": [
    "class Leaf_Reg:\n",
    "    \n",
    "    def __init__(self, data, labels):\n",
    "        self.data = data\n",
    "        self.labels = labels\n",
    "        self.prediction = self.predict()\n",
    "        \n",
    "    def predict(self):\n",
    "        prediction = np.mean(self.labels)\n",
    "        return prediction"
   ]
  },
  {
   "cell_type": "code",
   "execution_count": 37,
   "metadata": {},
   "outputs": [],
   "source": [
    "class Node:\n",
    "    # Класс узла\n",
    "    \n",
    "    def __init__(self, index, t, true_branch, false_branch):\n",
    "        self.index = index  # индекс признака, по которому ведется сравнение с порогом в этом узле\n",
    "        self.t = t  # значение порога\n",
    "        self.true_branch = true_branch  # поддерево, удовлетворяющее условию в узле\n",
    "        self.false_branch = false_branch  # поддерево, не удовлетворяющее условию в узле"
   ]
  },
  {
   "cell_type": "code",
   "execution_count": 38,
   "metadata": {},
   "outputs": [],
   "source": [
    "def quality_reg(left_labels, right_labels, current_variance):\n",
    "\n",
    "    # доля выбоки, ушедшая в левое поддерево\n",
    "    p = float(left_labels.shape[0]) / (left_labels.shape[0] + right_labels.shape[0])\n",
    "    \n",
    "    return current_variance - p * np.var(left_labels) - (1 - p) * np.var(right_labels)"
   ]
  },
  {
   "cell_type": "code",
   "execution_count": 39,
   "metadata": {},
   "outputs": [],
   "source": [
    "def split(data, labels, index, t):\n",
    "    # Разбиение датасета в узле\n",
    "    \n",
    "    left = np.where(data[:, index] <= t)\n",
    "    right = np.where(data[:, index] > t)\n",
    "        \n",
    "    true_data = data[left]\n",
    "    false_data = data[right]\n",
    "    true_labels = labels[left]\n",
    "    false_labels = labels[right]\n",
    "        \n",
    "    return true_data, false_data, true_labels, false_labels"
   ]
  },
  {
   "cell_type": "code",
   "execution_count": 40,
   "metadata": {},
   "outputs": [],
   "source": [
    "def find_best_split_reg(data, labels):\n",
    "    \n",
    "    #  обозначим минимальное количество объектов в узле\n",
    "    min_leaf = 5\n",
    "\n",
    "    current_variance = np.var(labels)\n",
    "\n",
    "    best_quality = 0\n",
    "    best_t = None\n",
    "    best_index = None\n",
    "    \n",
    "    n_features = data.shape[1]\n",
    "    \n",
    "    for index in range(n_features):\n",
    "        # будем проверять только уникальные значения признака, исключая повторения\n",
    "        t_values = np.unique([row[index] for row in data])\n",
    "        \n",
    "        for t in t_values:\n",
    "            true_data, false_data, true_labels, false_labels = split(data, labels, index, t)\n",
    "            #  пропускаем разбиения, в которых в узле остается менее 5 объектов\n",
    "            if len(true_data) < min_leaf or len(false_data) < min_leaf:\n",
    "                continue\n",
    "            \n",
    "            current_quality = quality_reg(true_labels, false_labels, current_variance)\n",
    "            \n",
    "            #  выбираем порог, на котором получается максимальный прирост качества\n",
    "            if current_quality > best_quality:\n",
    "                best_quality, best_t, best_index = current_quality, t, index\n",
    "\n",
    "    return best_quality, best_t, best_index"
   ]
  },
  {
   "cell_type": "code",
   "execution_count": 41,
   "metadata": {},
   "outputs": [],
   "source": [
    "def build_tree_reg_depth_lim(data, labels, depth_lim = 20, depth = 0):\n",
    "\n",
    "    quality, t, index = find_best_split_reg(data, labels)\n",
    "    #print(\"q: {} t: {} ind: {}\".format(quality, t, index))\n",
    "\n",
    "    #  Базовый случай - прекращаем рекурсию, когда нет прироста в качества\n",
    "    if quality == 0 or depth >= depth_lim:\n",
    "        return Leaf_Reg(data, labels)\n",
    "\n",
    "    true_data, false_data, true_labels, false_labels = split(data, labels, index, t)\n",
    "\n",
    "    # Рекурсивно строим два поддерева\n",
    "    true_branch = build_tree_reg_depth_lim(true_data, true_labels, depth_lim, depth + 1)\n",
    "    false_branch = build_tree_reg_depth_lim(false_data, false_labels, depth_lim, depth + 1)\n",
    "\n",
    "    # Возвращаем класс узла со всеми поддеревьями, то есть целого дерева\n",
    "    return Node(index, t, true_branch, false_branch)"
   ]
  },
  {
   "cell_type": "code",
   "execution_count": 42,
   "metadata": {},
   "outputs": [],
   "source": [
    "def pred_item(item, node):\n",
    "\n",
    "    #  Останавливаем рекурсию, если достигли листа\n",
    "    if isinstance(node, Leaf_Reg):\n",
    "        answer = node.prediction\n",
    "        return answer\n",
    "\n",
    "    if item[node.index] <= node.t:\n",
    "        return pred_item(item, node.true_branch)\n",
    "    else:\n",
    "        return pred_item(item, node.false_branch)"
   ]
  },
  {
   "cell_type": "code",
   "execution_count": 43,
   "metadata": {},
   "outputs": [],
   "source": [
    "def gb_predict_m(X, trees_list, coef_list, eta):\n",
    "    # Реализуемый алгоритм градиентного бустинга будет инициализироваться нулевыми значениями,\n",
    "    # поэтому все деревья из списка trees_list уже являются дополнительными и при предсказании прибавляются с шагом eta\n",
    "    return np.array([sum([eta * coef * pred_item(x, tree) for tree, coef in zip(trees_list, coef_list)]) for x in X])"
   ]
  },
  {
   "cell_type": "code",
   "execution_count": 44,
   "metadata": {},
   "outputs": [],
   "source": [
    "def mean_squared_error(y_real, prediction):\n",
    "    return (sum((y_real - prediction)**2)) / len(y_real)"
   ]
  },
  {
   "cell_type": "code",
   "execution_count": 45,
   "metadata": {},
   "outputs": [],
   "source": [
    "def bias(y, z):\n",
    "    return (y - z)"
   ]
  },
  {
   "cell_type": "code",
   "execution_count": 46,
   "metadata": {},
   "outputs": [],
   "source": [
    "def gb_fit_lt(n_trees, max_depth, X_train, X_test, y_train, y_test, coefs, eta):\n",
    "    \n",
    "    # Деревья будем записывать в список\n",
    "    trees = []\n",
    "    err_min = np.inf\n",
    "    \n",
    "    # Будем записывать ошибки на обучающей и тестовой выборке на каждой итерации в список\n",
    "    train_errors = []\n",
    "    test_errors = []\n",
    "    \n",
    "    for i in range(n_trees):\n",
    "\n",
    "        # инициализируем бустинг начальным алгоритмом, возвращающим ноль, \n",
    "        # поэтому первый алгоритм просто обучаем на выборке и добавляем в список\n",
    "        if len(trees) == 0:\n",
    "            # обучаем первое дерево на обучающей выборке\n",
    "            tree = build_tree_reg_depth_lim(X_train, y_train, max_depth)\n",
    "            \n",
    "            train_errors.append(mean_squared_error(y_train, gb_predict_m(X_train, trees, coefs, eta)))\n",
    "            test_errors.append(mean_squared_error(y_test, gb_predict_m(X_test, trees, coefs, eta)))\n",
    "        else:\n",
    "            # Получим ответы на текущей композиции\n",
    "            target = gb_predict_m(X_train, trees, coefs, eta)\n",
    "            \n",
    "            # алгоритмы начиная со второго обучаем на сдвиг\n",
    "            tree = build_tree_reg_depth_lim(X_train, bias(y_train, target), max_depth)\n",
    "            \n",
    "            train_errors.append(mean_squared_error(y_train, gb_predict_m(X_train, trees, coefs, eta)))\n",
    "            test_errors.append(mean_squared_error(y_test, gb_predict_m(X_test, trees, coefs, eta)))\n",
    "\n",
    "            if test_errors[-1]-0.00005 > err_min:\n",
    "                print(len(trees))\n",
    "                break\n",
    "            elif test_errors[-1] < err_min:\n",
    "                err_min = test_errors[-1]\n",
    "\n",
    "        if not (i+1)%10:\n",
    "            print(i+1)\n",
    "        trees.append(tree)\n",
    "        \n",
    "    return trees, train_errors, test_errors"
   ]
  },
  {
   "cell_type": "code",
   "execution_count": 47,
   "metadata": {},
   "outputs": [],
   "source": [
    "def get_error_plot(n_trees, train_err, test_err):\n",
    "    plt.xlabel('Iteration number')\n",
    "    plt.ylabel('MSE')\n",
    "    plt.xlim(2, n_trees+1)\n",
    "    plt.plot(list(range(2, n_trees+1)), train_err[1:], label='train error')\n",
    "    plt.plot(list(range(2, n_trees+1)), test_err[1:], label='test error')\n",
    "    plt.legend(loc='upper right')\n",
    "    plt.show()"
   ]
  },
  {
   "cell_type": "code",
   "execution_count": 48,
   "metadata": {},
   "outputs": [],
   "source": [
    "def grid_mtr(n_trees_l, max_depth_l, eta_l, X, y):\n",
    "    X_train, X_test, y_train, y_test = train_test_split(X, y, test_size=0.25, random_state=42)\n",
    "    err_min = np.inf\n",
    "    for tr in n_trees_l:\n",
    "        for dp in max_depth_l:\n",
    "            for et in eta_l:\n",
    "                coefs = [1] * tr # для простоты примем коэффициенты равными 1\n",
    "                trees, train_errors, test_errors = gb_fit_lt(tr, dp, X_train, X_test, y_train, y_test, coefs, et)\n",
    "                train_prediction = gb_predict_m(X_train, trees, coefs, et)\n",
    "                print(f'Ошибка алгоритма из {len(trees)} деревьев глубиной {dp} с шагом {et} на тренировочной выборке: {mean_squared_error(y_train, train_prediction)}')\n",
    "                test_prediction = gb_predict_m(X_test, trees, coefs, et)\n",
    "                err = mean_squared_error(y_test, test_prediction)\n",
    "                print(f'Ошибка алгоритма из {len(trees)} деревьев глубиной {dp} с шагом {et} на тестовой выборке: {err}')\n",
    "                if err_min > err:\n",
    "                    tr_b = len(trees)\n",
    "                    dp_b = dp\n",
    "                    et_b = et\n",
    "                    err_min = err\n",
    "                get_error_plot(len(train_errors), train_errors, test_errors)\n",
    "    print(f'Лучшие параметры: Ошибка алгоритма из {tr_b} деревьев глубиной {dp_b} с шагом {et_b} на тестовой выборке: {err_min}')\n",
    "    return tr_b, dp_b, et_b"
   ]
  },
  {
   "cell_type": "code",
   "execution_count": 49,
   "metadata": {},
   "outputs": [
    {
     "name": "stdout",
     "output_type": "stream",
     "text": [
      "10\n",
      "20\n",
      "30\n",
      "40\n",
      "50\n",
      "60\n",
      "70\n",
      "80\n",
      "90\n",
      "100\n",
      "110\n",
      "120\n",
      "130\n",
      "140\n",
      "150\n",
      "160\n",
      "164\n",
      "Ошибка алгоритма из 164 деревьев глубиной 2 с шагом 0.1 на тренировочной выборке: 0.07465312290292768\n",
      "Ошибка алгоритма из 164 деревьев глубиной 2 с шагом 0.1 на тестовой выборке: 0.08201381827362225\n"
     ]
    },
    {
     "data": {
      "image/png": "[encoded data removed]",
      "text/plain": [
       "<Figure size 432x288 with 1 Axes>"
      ]
     },
     "metadata": {
      "needs_background": "light"
     },
     "output_type": "display_data"
    },
    {
     "name": "stdout",
     "output_type": "stream",
     "text": [
      "10\n",
      "20\n",
      "30\n",
      "40\n",
      "50\n",
      "60\n",
      "70\n",
      "80\n",
      "90\n",
      "100\n",
      "107\n",
      "Ошибка алгоритма из 107 деревьев глубиной 3 с шагом 0.1 на тренировочной выборке: 0.07150808254798571\n",
      "Ошибка алгоритма из 107 деревьев глубиной 3 с шагом 0.1 на тестовой выборке: 0.08156795472866421\n"
     ]
    },
    {
     "data": {
      "image/png": "[encoded data removed]",
      "text/plain": [
       "<Figure size 432x288 with 1 Axes>"
      ]
     },
     "metadata": {
      "needs_background": "light"
     },
     "output_type": "display_data"
    },
    {
     "name": "stdout",
     "output_type": "stream",
     "text": [
      "10\n",
      "20\n",
      "30\n",
      "40\n",
      "50\n",
      "60\n",
      "70\n",
      "78\n",
      "Ошибка алгоритма из 78 деревьев глубиной 4 с шагом 0.1 на тренировочной выборке: 0.06851043728784233\n",
      "Ошибка алгоритма из 78 деревьев глубиной 4 с шагом 0.1 на тестовой выборке: 0.08194834690740663\n"
     ]
    },
    {
     "data": {
      "image/png": "[encoded data removed]",
      "text/plain": [
       "<Figure size 432x288 with 1 Axes>"
      ]
     },
     "metadata": {
      "needs_background": "light"
     },
     "output_type": "display_data"
    },
    {
     "name": "stdout",
     "output_type": "stream",
     "text": [
      "10\n",
      "20\n",
      "30\n",
      "40\n",
      "50\n",
      "53\n",
      "Ошибка алгоритма из 53 деревьев глубиной 5 с шагом 0.1 на тренировочной выборке: 0.0663800254037334\n",
      "Ошибка алгоритма из 53 деревьев глубиной 5 с шагом 0.1 на тестовой выборке: 0.0820242612998339\n"
     ]
    },
    {
     "data": {
      "image/png": "[encoded data removed]",
      "text/plain": [
       "<Figure size 432x288 with 1 Axes>"
      ]
     },
     "metadata": {
      "needs_background": "light"
     },
     "output_type": "display_data"
    },
    {
     "name": "stdout",
     "output_type": "stream",
     "text": [
      "10\n",
      "20\n",
      "30\n",
      "34\n",
      "Ошибка алгоритма из 34 деревьев глубиной 6 с шагом 0.1 на тренировочной выборке: 0.06423850768183717\n",
      "Ошибка алгоритма из 34 деревьев глубиной 6 с шагом 0.1 на тестовой выборке: 0.08333291577517919\n"
     ]
    },
    {
     "data": {
      "image/png": "[encoded data removed]",
      "text/plain": [
       "<Figure size 432x288 with 1 Axes>"
      ]
     },
     "metadata": {
      "needs_background": "light"
     },
     "output_type": "display_data"
    },
    {
     "name": "stdout",
     "output_type": "stream",
     "text": [
      "Лучшие параметры: Ошибка алгоритма из 107 деревьев глубиной 3 с шагом 0.1 на тестовой выборке: 0.08156795472866421\n"
     ]
    }
   ],
   "source": [
    "n_trees_l = [350]\n",
    "max_depth_l = [2, 3, 4, 5, 6]\n",
    "eta_l = [0.1]\n",
    "\n",
    "tr_b, dp_b, et_b = grid_mtr(n_trees_l, max_depth_l, eta_l, X_c, y_c)"
   ]
  },
  {
   "cell_type": "markdown",
   "metadata": {},
   "source": [
    "Лучшие параметры: Ошибка алгоритма из 107 деревьев глубиной 3 с шагом 0.1 на тестовой выборке: 0.08156795472866421"
   ]
  },
  {
   "cell_type": "code",
   "execution_count": 50,
   "metadata": {},
   "outputs": [],
   "source": [
    "def gb_fit_fin(n_trees, max_depth, X, y, coefs, eta):\n",
    "    \n",
    "    # Деревья будем записывать в список\n",
    "    trees = []\n",
    "    \n",
    "    # Будем записывать ошибки\n",
    "    errors = []\n",
    "    \n",
    "    for i in range(n_trees):\n",
    "\n",
    "        # инициализируем бустинг начальным алгоритмом, возвращающим ноль, \n",
    "        # поэтому первый алгоритм просто обучаем на выборке и добавляем в список\n",
    "        if len(trees) == 0:\n",
    "            # обучаем первое дерево на обучающей выборке\n",
    "            tree = build_tree_reg_depth_lim(X, y, max_depth)\n",
    "            \n",
    "            errors.append(mean_squared_error(y, gb_predict_m(X, trees, coefs, eta)))\n",
    "        else:\n",
    "            # Получим ответы на текущей композиции\n",
    "            target = gb_predict_m(X, trees, coefs, eta)\n",
    "            \n",
    "            # алгоритмы начиная со второго обучаем на сдвиг\n",
    "            tree = build_tree_reg_depth_lim(X, bias(y, target), max_depth)\n",
    "            \n",
    "            errors.append(mean_squared_error(y, gb_predict_m(X, trees, coefs, eta)))\n",
    "\n",
    "        trees.append(tree)\n",
    "        \n",
    "    return trees, errors"
   ]
  },
  {
   "cell_type": "code",
   "execution_count": 52,
   "metadata": {},
   "outputs": [],
   "source": [
    "coefs = [1] * tr_b # для простоты примем коэффициенты равными 1\n",
    "\n",
    "trees, errors = gb_fit_fin(tr_b, dp_b, X_c, y_c, coefs, et_b)"
   ]
  },
  {
   "cell_type": "code",
   "execution_count": 54,
   "metadata": {},
   "outputs": [],
   "source": [
    "prediction = gb_predict_m(test_X_c, trees, coefs, et_b)"
   ]
  },
  {
   "cell_type": "code",
   "execution_count": 55,
   "metadata": {},
   "outputs": [],
   "source": [
    "prediction[prediction < 0] = 0\n",
    "prediction[prediction > 1] = 1"
   ]
  },
  {
   "cell_type": "code",
   "execution_count": 56,
   "metadata": {},
   "outputs": [
    {
     "data": {
      "text/html": [
       "<div>\n",
       "<style scoped>\n",
       "    .dataframe tbody tr th:only-of-type {\n",
       "        vertical-align: middle;\n",
       "    }\n",
       "\n",
       "    .dataframe tbody tr th {\n",
       "        vertical-align: top;\n",
       "    }\n",
       "\n",
       "    .dataframe thead th {\n",
       "        text-align: right;\n",
       "    }\n",
       "</style>\n",
       "<table border=\"1\" class=\"dataframe\">\n",
       "  <thead>\n",
       "    <tr style=\"text-align: right;\">\n",
       "      <th></th>\n",
       "      <th>Id</th>\n",
       "      <th>choose</th>\n",
       "    </tr>\n",
       "  </thead>\n",
       "  <tbody>\n",
       "    <tr>\n",
       "      <th>0</th>\n",
       "      <td>10000</td>\n",
       "      <td>0.019587</td>\n",
       "    </tr>\n",
       "    <tr>\n",
       "      <th>1</th>\n",
       "      <td>10001</td>\n",
       "      <td>0.159179</td>\n",
       "    </tr>\n",
       "    <tr>\n",
       "      <th>2</th>\n",
       "      <td>10002</td>\n",
       "      <td>0.003890</td>\n",
       "    </tr>\n",
       "    <tr>\n",
       "      <th>3</th>\n",
       "      <td>10003</td>\n",
       "      <td>0.014285</td>\n",
       "    </tr>\n",
       "    <tr>\n",
       "      <th>4</th>\n",
       "      <td>10004</td>\n",
       "      <td>0.152729</td>\n",
       "    </tr>\n",
       "    <tr>\n",
       "      <th>5</th>\n",
       "      <td>10005</td>\n",
       "      <td>0.435720</td>\n",
       "    </tr>\n",
       "    <tr>\n",
       "      <th>6</th>\n",
       "      <td>10006</td>\n",
       "      <td>0.019879</td>\n",
       "    </tr>\n",
       "    <tr>\n",
       "      <th>7</th>\n",
       "      <td>10007</td>\n",
       "      <td>0.168528</td>\n",
       "    </tr>\n",
       "    <tr>\n",
       "      <th>8</th>\n",
       "      <td>10008</td>\n",
       "      <td>0.000000</td>\n",
       "    </tr>\n",
       "    <tr>\n",
       "      <th>9</th>\n",
       "      <td>10009</td>\n",
       "      <td>0.298126</td>\n",
       "    </tr>\n",
       "    <tr>\n",
       "      <th>10</th>\n",
       "      <td>10010</td>\n",
       "      <td>0.202413</td>\n",
       "    </tr>\n",
       "    <tr>\n",
       "      <th>11</th>\n",
       "      <td>10011</td>\n",
       "      <td>0.018230</td>\n",
       "    </tr>\n",
       "    <tr>\n",
       "      <th>12</th>\n",
       "      <td>10012</td>\n",
       "      <td>0.040741</td>\n",
       "    </tr>\n",
       "    <tr>\n",
       "      <th>13</th>\n",
       "      <td>10013</td>\n",
       "      <td>0.042909</td>\n",
       "    </tr>\n",
       "    <tr>\n",
       "      <th>14</th>\n",
       "      <td>10014</td>\n",
       "      <td>0.377137</td>\n",
       "    </tr>\n",
       "    <tr>\n",
       "      <th>15</th>\n",
       "      <td>10015</td>\n",
       "      <td>0.020623</td>\n",
       "    </tr>\n",
       "    <tr>\n",
       "      <th>16</th>\n",
       "      <td>10016</td>\n",
       "      <td>0.011381</td>\n",
       "    </tr>\n",
       "    <tr>\n",
       "      <th>17</th>\n",
       "      <td>10017</td>\n",
       "      <td>0.081733</td>\n",
       "    </tr>\n",
       "    <tr>\n",
       "      <th>18</th>\n",
       "      <td>10018</td>\n",
       "      <td>0.224930</td>\n",
       "    </tr>\n",
       "    <tr>\n",
       "      <th>19</th>\n",
       "      <td>10019</td>\n",
       "      <td>0.096405</td>\n",
       "    </tr>\n",
       "    <tr>\n",
       "      <th>20</th>\n",
       "      <td>10020</td>\n",
       "      <td>0.165582</td>\n",
       "    </tr>\n",
       "    <tr>\n",
       "      <th>21</th>\n",
       "      <td>10021</td>\n",
       "      <td>1.000000</td>\n",
       "    </tr>\n",
       "    <tr>\n",
       "      <th>22</th>\n",
       "      <td>10022</td>\n",
       "      <td>0.076515</td>\n",
       "    </tr>\n",
       "    <tr>\n",
       "      <th>23</th>\n",
       "      <td>10023</td>\n",
       "      <td>0.028274</td>\n",
       "    </tr>\n",
       "    <tr>\n",
       "      <th>24</th>\n",
       "      <td>10024</td>\n",
       "      <td>0.192806</td>\n",
       "    </tr>\n",
       "    <tr>\n",
       "      <th>25</th>\n",
       "      <td>10025</td>\n",
       "      <td>0.060921</td>\n",
       "    </tr>\n",
       "    <tr>\n",
       "      <th>26</th>\n",
       "      <td>10026</td>\n",
       "      <td>0.194442</td>\n",
       "    </tr>\n",
       "    <tr>\n",
       "      <th>27</th>\n",
       "      <td>10027</td>\n",
       "      <td>0.163086</td>\n",
       "    </tr>\n",
       "    <tr>\n",
       "      <th>28</th>\n",
       "      <td>10028</td>\n",
       "      <td>0.068487</td>\n",
       "    </tr>\n",
       "    <tr>\n",
       "      <th>29</th>\n",
       "      <td>10029</td>\n",
       "      <td>0.011175</td>\n",
       "    </tr>\n",
       "    <tr>\n",
       "      <th>...</th>\n",
       "      <td>...</td>\n",
       "      <td>...</td>\n",
       "    </tr>\n",
       "    <tr>\n",
       "      <th>9970</th>\n",
       "      <td>19970</td>\n",
       "      <td>0.115671</td>\n",
       "    </tr>\n",
       "    <tr>\n",
       "      <th>9971</th>\n",
       "      <td>19971</td>\n",
       "      <td>0.181558</td>\n",
       "    </tr>\n",
       "    <tr>\n",
       "      <th>9972</th>\n",
       "      <td>19972</td>\n",
       "      <td>0.000000</td>\n",
       "    </tr>\n",
       "    <tr>\n",
       "      <th>9973</th>\n",
       "      <td>19973</td>\n",
       "      <td>0.000000</td>\n",
       "    </tr>\n",
       "    <tr>\n",
       "      <th>9974</th>\n",
       "      <td>19974</td>\n",
       "      <td>0.000000</td>\n",
       "    </tr>\n",
       "    <tr>\n",
       "      <th>9975</th>\n",
       "      <td>19975</td>\n",
       "      <td>0.251831</td>\n",
       "    </tr>\n",
       "    <tr>\n",
       "      <th>9976</th>\n",
       "      <td>19976</td>\n",
       "      <td>0.068556</td>\n",
       "    </tr>\n",
       "    <tr>\n",
       "      <th>9977</th>\n",
       "      <td>19977</td>\n",
       "      <td>0.191212</td>\n",
       "    </tr>\n",
       "    <tr>\n",
       "      <th>9978</th>\n",
       "      <td>19978</td>\n",
       "      <td>0.466981</td>\n",
       "    </tr>\n",
       "    <tr>\n",
       "      <th>9979</th>\n",
       "      <td>19979</td>\n",
       "      <td>0.216357</td>\n",
       "    </tr>\n",
       "    <tr>\n",
       "      <th>9980</th>\n",
       "      <td>19980</td>\n",
       "      <td>0.017109</td>\n",
       "    </tr>\n",
       "    <tr>\n",
       "      <th>9981</th>\n",
       "      <td>19981</td>\n",
       "      <td>0.114643</td>\n",
       "    </tr>\n",
       "    <tr>\n",
       "      <th>9982</th>\n",
       "      <td>19982</td>\n",
       "      <td>0.000000</td>\n",
       "    </tr>\n",
       "    <tr>\n",
       "      <th>9983</th>\n",
       "      <td>19983</td>\n",
       "      <td>0.051661</td>\n",
       "    </tr>\n",
       "    <tr>\n",
       "      <th>9984</th>\n",
       "      <td>19984</td>\n",
       "      <td>0.209107</td>\n",
       "    </tr>\n",
       "    <tr>\n",
       "      <th>9985</th>\n",
       "      <td>19985</td>\n",
       "      <td>0.153899</td>\n",
       "    </tr>\n",
       "    <tr>\n",
       "      <th>9986</th>\n",
       "      <td>19986</td>\n",
       "      <td>0.053999</td>\n",
       "    </tr>\n",
       "    <tr>\n",
       "      <th>9987</th>\n",
       "      <td>19987</td>\n",
       "      <td>0.064083</td>\n",
       "    </tr>\n",
       "    <tr>\n",
       "      <th>9988</th>\n",
       "      <td>19988</td>\n",
       "      <td>0.051548</td>\n",
       "    </tr>\n",
       "    <tr>\n",
       "      <th>9989</th>\n",
       "      <td>19989</td>\n",
       "      <td>0.000000</td>\n",
       "    </tr>\n",
       "    <tr>\n",
       "      <th>9990</th>\n",
       "      <td>19990</td>\n",
       "      <td>0.001404</td>\n",
       "    </tr>\n",
       "    <tr>\n",
       "      <th>9991</th>\n",
       "      <td>19991</td>\n",
       "      <td>0.048464</td>\n",
       "    </tr>\n",
       "    <tr>\n",
       "      <th>9992</th>\n",
       "      <td>19992</td>\n",
       "      <td>0.003297</td>\n",
       "    </tr>\n",
       "    <tr>\n",
       "      <th>9993</th>\n",
       "      <td>19993</td>\n",
       "      <td>0.157516</td>\n",
       "    </tr>\n",
       "    <tr>\n",
       "      <th>9994</th>\n",
       "      <td>19994</td>\n",
       "      <td>0.070179</td>\n",
       "    </tr>\n",
       "    <tr>\n",
       "      <th>9995</th>\n",
       "      <td>19995</td>\n",
       "      <td>0.165727</td>\n",
       "    </tr>\n",
       "    <tr>\n",
       "      <th>9996</th>\n",
       "      <td>19996</td>\n",
       "      <td>0.111693</td>\n",
       "    </tr>\n",
       "    <tr>\n",
       "      <th>9997</th>\n",
       "      <td>19997</td>\n",
       "      <td>0.299543</td>\n",
       "    </tr>\n",
       "    <tr>\n",
       "      <th>9998</th>\n",
       "      <td>19998</td>\n",
       "      <td>0.859120</td>\n",
       "    </tr>\n",
       "    <tr>\n",
       "      <th>9999</th>\n",
       "      <td>19999</td>\n",
       "      <td>0.110744</td>\n",
       "    </tr>\n",
       "  </tbody>\n",
       "</table>\n",
       "<p>10000 rows × 2 columns</p>\n",
       "</div>"
      ],
      "text/plain": [
       "         Id    choose\n",
       "0     10000  0.019587\n",
       "1     10001  0.159179\n",
       "2     10002  0.003890\n",
       "3     10003  0.014285\n",
       "4     10004  0.152729\n",
       "5     10005  0.435720\n",
       "6     10006  0.019879\n",
       "7     10007  0.168528\n",
       "8     10008  0.000000\n",
       "9     10009  0.298126\n",
       "10    10010  0.202413\n",
       "11    10011  0.018230\n",
       "12    10012  0.040741\n",
       "13    10013  0.042909\n",
       "14    10014  0.377137\n",
       "15    10015  0.020623\n",
       "16    10016  0.011381\n",
       "17    10017  0.081733\n",
       "18    10018  0.224930\n",
       "19    10019  0.096405\n",
       "20    10020  0.165582\n",
       "21    10021  1.000000\n",
       "22    10022  0.076515\n",
       "23    10023  0.028274\n",
       "24    10024  0.192806\n",
       "25    10025  0.060921\n",
       "26    10026  0.194442\n",
       "27    10027  0.163086\n",
       "28    10028  0.068487\n",
       "29    10029  0.011175\n",
       "...     ...       ...\n",
       "9970  19970  0.115671\n",
       "9971  19971  0.181558\n",
       "9972  19972  0.000000\n",
       "9973  19973  0.000000\n",
       "9974  19974  0.000000\n",
       "9975  19975  0.251831\n",
       "9976  19976  0.068556\n",
       "9977  19977  0.191212\n",
       "9978  19978  0.466981\n",
       "9979  19979  0.216357\n",
       "9980  19980  0.017109\n",
       "9981  19981  0.114643\n",
       "9982  19982  0.000000\n",
       "9983  19983  0.051661\n",
       "9984  19984  0.209107\n",
       "9985  19985  0.153899\n",
       "9986  19986  0.053999\n",
       "9987  19987  0.064083\n",
       "9988  19988  0.051548\n",
       "9989  19989  0.000000\n",
       "9990  19990  0.001404\n",
       "9991  19991  0.048464\n",
       "9992  19992  0.003297\n",
       "9993  19993  0.157516\n",
       "9994  19994  0.070179\n",
       "9995  19995  0.165727\n",
       "9996  19996  0.111693\n",
       "9997  19997  0.299543\n",
       "9998  19998  0.859120\n",
       "9999  19999  0.110744\n",
       "\n",
       "[10000 rows x 2 columns]"
      ]
     },
     "execution_count": 56,
     "metadata": {},
     "output_type": "execute_result"
    }
   ],
   "source": [
    "res = test_c[['Id']].copy()\n",
    "res = pd.concat([res, pd.DataFrame(prediction, columns=['choose'])], axis=1)\n",
    "res"
   ]
  },
  {
   "cell_type": "code",
   "execution_count": 57,
   "metadata": {},
   "outputs": [],
   "source": [
    "res.to_csv(\"viv_cl_01.csv\", sep=\",\", index=False)"
   ]
  },
  {
   "cell_type": "markdown",
   "metadata": {},
   "source": [
    "# Tutors - expected math exam results"
   ]
  },
  {
   "cell_type": "markdown",
   "metadata": {},
   "source": [
    "## Загрузка и подготовка данных"
   ]
  },
  {
   "cell_type": "code",
   "execution_count": 58,
   "metadata": {
    "_cell_guid": "79c7e3d0-c299-4dcb-8224-4455121ee9b0",
    "_uuid": "d629ff2d2480ee46fbb7e2d37f6b5fab8052498a"
   },
   "outputs": [],
   "source": [
    "data_r = pd.read_csv(\"train_r.csv\", sep=\",\")"
   ]
  },
  {
   "cell_type": "code",
   "execution_count": 59,
   "metadata": {},
   "outputs": [
    {
     "name": "stdout",
     "output_type": "stream",
     "text": [
      "<class 'pandas.core.frame.DataFrame'>\n",
      "RangeIndex: 10000 entries, 0 to 9999\n",
      "Data columns (total 12 columns):\n",
      "Id                     10000 non-null int64\n",
      "age                    10000 non-null float64\n",
      "years_of_experience    10000 non-null float64\n",
      "lesson_price           10000 non-null float64\n",
      "qualification          10000 non-null float64\n",
      "physics                10000 non-null float64\n",
      "chemistry              10000 non-null float64\n",
      "biology                10000 non-null float64\n",
      "english                10000 non-null float64\n",
      "geography              10000 non-null float64\n",
      "history                10000 non-null float64\n",
      "mean_exam_points       10000 non-null float64\n",
      "dtypes: float64(11), int64(1)\n",
      "memory usage: 937.6 KB\n"
     ]
    }
   ],
   "source": [
    "data_r.info()"
   ]
  },
  {
   "cell_type": "code",
   "execution_count": 60,
   "metadata": {},
   "outputs": [
    {
     "name": "stdout",
     "output_type": "stream",
     "text": [
      "<class 'pandas.core.frame.DataFrame'>\n",
      "RangeIndex: 10000 entries, 0 to 9999\n",
      "Data columns (total 10 columns):\n",
      "age                    10000 non-null float64\n",
      "years_of_experience    10000 non-null float64\n",
      "lesson_price           10000 non-null float64\n",
      "qualification          10000 non-null float64\n",
      "physics                10000 non-null float64\n",
      "chemistry              10000 non-null float64\n",
      "biology                10000 non-null float64\n",
      "english                10000 non-null float64\n",
      "geography              10000 non-null float64\n",
      "history                10000 non-null float64\n",
      "dtypes: float64(10)\n",
      "memory usage: 781.3 KB\n"
     ]
    }
   ],
   "source": [
    "X_r = data_r.drop(['Id', 'mean_exam_points'], axis = 1)\n",
    "X_r.info()"
   ]
  },
  {
   "cell_type": "code",
   "execution_count": 61,
   "metadata": {},
   "outputs": [
    {
     "data": {
      "text/plain": [
       "array([[4.00e+01, 0.00e+00, 1.40e+03, ..., 0.00e+00, 1.00e+00, 0.00e+00],\n",
       "       [4.80e+01, 4.00e+00, 2.85e+03, ..., 0.00e+00, 0.00e+00, 0.00e+00],\n",
       "       [3.90e+01, 0.00e+00, 1.20e+03, ..., 0.00e+00, 0.00e+00, 0.00e+00],\n",
       "       ...,\n",
       "       [3.40e+01, 1.00e+00, 1.25e+03, ..., 0.00e+00, 0.00e+00, 0.00e+00],\n",
       "       [3.30e+01, 3.00e+00, 1.10e+03, ..., 0.00e+00, 0.00e+00, 0.00e+00],\n",
       "       [3.50e+01, 0.00e+00, 1.45e+03, ..., 0.00e+00, 0.00e+00, 0.00e+00]])"
      ]
     },
     "execution_count": 61,
     "metadata": {},
     "output_type": "execute_result"
    }
   ],
   "source": [
    "X_r = X_r.values\n",
    "X_r"
   ]
  },
  {
   "cell_type": "code",
   "execution_count": 62,
   "metadata": {},
   "outputs": [
    {
     "name": "stdout",
     "output_type": "stream",
     "text": [
      "<class 'pandas.core.frame.DataFrame'>\n",
      "RangeIndex: 10000 entries, 0 to 9999\n",
      "Data columns (total 1 columns):\n",
      "mean_exam_points    10000 non-null float64\n",
      "dtypes: float64(1)\n",
      "memory usage: 78.2 KB\n"
     ]
    }
   ],
   "source": [
    "y_r = data_r[['mean_exam_points']]\n",
    "y_r.info()"
   ]
  },
  {
   "cell_type": "code",
   "execution_count": 63,
   "metadata": {},
   "outputs": [
    {
     "data": {
      "text/plain": [
       "array([63., 86., 53., ..., 58., 51., 59.])"
      ]
     },
     "execution_count": 63,
     "metadata": {},
     "output_type": "execute_result"
    }
   ],
   "source": [
    "y_r = y_r.values.flatten()\n",
    "y_r"
   ]
  },
  {
   "cell_type": "code",
   "execution_count": 64,
   "metadata": {},
   "outputs": [],
   "source": [
    "test_r = pd.read_csv(\"test_r.csv\", sep=\",\")"
   ]
  },
  {
   "cell_type": "code",
   "execution_count": 65,
   "metadata": {},
   "outputs": [
    {
     "name": "stdout",
     "output_type": "stream",
     "text": [
      "<class 'pandas.core.frame.DataFrame'>\n",
      "RangeIndex: 10000 entries, 0 to 9999\n",
      "Data columns (total 11 columns):\n",
      "Id                     10000 non-null int64\n",
      "age                    10000 non-null float64\n",
      "years_of_experience    10000 non-null float64\n",
      "lesson_price           10000 non-null float64\n",
      "qualification          10000 non-null float64\n",
      "physics                10000 non-null float64\n",
      "chemistry              10000 non-null float64\n",
      "biology                10000 non-null float64\n",
      "english                10000 non-null float64\n",
      "geography              10000 non-null float64\n",
      "history                10000 non-null float64\n",
      "dtypes: float64(10), int64(1)\n",
      "memory usage: 859.5 KB\n"
     ]
    }
   ],
   "source": [
    "test_r.info()"
   ]
  },
  {
   "cell_type": "code",
   "execution_count": 66,
   "metadata": {},
   "outputs": [
    {
     "name": "stdout",
     "output_type": "stream",
     "text": [
      "<class 'pandas.core.frame.DataFrame'>\n",
      "RangeIndex: 10000 entries, 0 to 9999\n",
      "Data columns (total 10 columns):\n",
      "age                    10000 non-null float64\n",
      "years_of_experience    10000 non-null float64\n",
      "lesson_price           10000 non-null float64\n",
      "qualification          10000 non-null float64\n",
      "physics                10000 non-null float64\n",
      "chemistry              10000 non-null float64\n",
      "biology                10000 non-null float64\n",
      "english                10000 non-null float64\n",
      "geography              10000 non-null float64\n",
      "history                10000 non-null float64\n",
      "dtypes: float64(10)\n",
      "memory usage: 781.3 KB\n"
     ]
    }
   ],
   "source": [
    "test_X_r = test_r.drop(['Id'], axis = 1)\n",
    "test_X_r.info()"
   ]
  },
  {
   "cell_type": "code",
   "execution_count": 67,
   "metadata": {},
   "outputs": [
    {
     "data": {
      "text/plain": [
       "array([[4.60e+01, 3.00e+00, 1.05e+03, ..., 0.00e+00, 0.00e+00, 0.00e+00],\n",
       "       [4.30e+01, 3.00e+00, 1.85e+03, ..., 0.00e+00, 0.00e+00, 0.00e+00],\n",
       "       [5.20e+01, 1.00e+00, 1.55e+03, ..., 0.00e+00, 0.00e+00, 0.00e+00],\n",
       "       ...,\n",
       "       [3.30e+01, 5.00e+00, 1.10e+03, ..., 0.00e+00, 0.00e+00, 0.00e+00],\n",
       "       [4.80e+01, 0.00e+00, 1.75e+03, ..., 0.00e+00, 0.00e+00, 0.00e+00],\n",
       "       [4.90e+01, 5.00e+00, 2.00e+03, ..., 0.00e+00, 0.00e+00, 0.00e+00]])"
      ]
     },
     "execution_count": 67,
     "metadata": {},
     "output_type": "execute_result"
    }
   ],
   "source": [
    "test_X_r = test_X_r.values\n",
    "test_X_r"
   ]
  },
  {
   "cell_type": "markdown",
   "metadata": {},
   "source": [
    "## XGBoost"
   ]
  },
  {
   "cell_type": "code",
   "execution_count": 68,
   "metadata": {},
   "outputs": [],
   "source": [
    "class Leaf_Reg:\n",
    "    \n",
    "    def __init__(self, data, labels):\n",
    "        self.data = data\n",
    "        self.labels = labels\n",
    "        self.prediction = self.predict()\n",
    "        \n",
    "    def predict(self):\n",
    "        prediction = np.mean(self.labels)\n",
    "        return prediction "
   ]
  },
  {
   "cell_type": "code",
   "execution_count": 69,
   "metadata": {},
   "outputs": [],
   "source": [
    "class Node:\n",
    "    # Класс узла\n",
    "    \n",
    "    def __init__(self, index, t, true_branch, false_branch):\n",
    "        self.index = index  # индекс признака, по которому ведется сравнение с порогом в этом узле\n",
    "        self.t = t  # значение порога\n",
    "        self.true_branch = true_branch  # поддерево, удовлетворяющее условию в узле\n",
    "        self.false_branch = false_branch  # поддерево, не удовлетворяющее условию в узле"
   ]
  },
  {
   "cell_type": "code",
   "execution_count": 70,
   "metadata": {},
   "outputs": [],
   "source": [
    "def quality_reg(left_labels, right_labels, current_variance):\n",
    "\n",
    "    # доля выбоки, ушедшая в левое поддерево\n",
    "    p = float(left_labels.shape[0]) / (left_labels.shape[0] + right_labels.shape[0])\n",
    "    \n",
    "    return current_variance - p * np.var(left_labels) - (1 - p) * np.var(right_labels)"
   ]
  },
  {
   "cell_type": "code",
   "execution_count": 71,
   "metadata": {},
   "outputs": [],
   "source": [
    "def split(data, labels, index, t):\n",
    "    # Разбиение датасета в узле\n",
    "    \n",
    "    left = np.where(data[:, index] <= t)\n",
    "    right = np.where(data[:, index] > t)\n",
    "        \n",
    "    true_data = data[left]\n",
    "    false_data = data[right]\n",
    "    true_labels = labels[left]\n",
    "    false_labels = labels[right]\n",
    "        \n",
    "    return true_data, false_data, true_labels, false_labels"
   ]
  },
  {
   "cell_type": "code",
   "execution_count": 72,
   "metadata": {},
   "outputs": [],
   "source": [
    "def find_best_split_reg(data, labels):\n",
    "    \n",
    "    #  обозначим минимальное количество объектов в узле\n",
    "    min_leaf = 5\n",
    "\n",
    "    current_variance = np.var(labels)\n",
    "\n",
    "    best_quality = 0\n",
    "    best_t = None\n",
    "    best_index = None\n",
    "    \n",
    "    n_features = data.shape[1]\n",
    "    \n",
    "    for index in range(n_features):\n",
    "        # будем проверять только уникальные значения признака, исключая повторения\n",
    "        t_values = np.unique([row[index] for row in data])\n",
    "        \n",
    "        for t in t_values:\n",
    "            true_data, false_data, true_labels, false_labels = split(data, labels, index, t)\n",
    "            #  пропускаем разбиения, в которых в узле остается менее 5 объектов\n",
    "            if len(true_data) < min_leaf or len(false_data) < min_leaf:\n",
    "                continue\n",
    "            \n",
    "            current_quality = quality_reg(true_labels, false_labels, current_variance)\n",
    "            \n",
    "            #  выбираем порог, на котором получается максимальный прирост качества\n",
    "            if current_quality > best_quality:\n",
    "                best_quality, best_t, best_index = current_quality, t, index\n",
    "\n",
    "    return best_quality, best_t, best_index"
   ]
  },
  {
   "cell_type": "code",
   "execution_count": 73,
   "metadata": {},
   "outputs": [],
   "source": [
    "def build_tree_reg_depth_lim(data, labels, depth_lim = 20, depth = 0):\n",
    "\n",
    "    quality, t, index = find_best_split_reg(data, labels)\n",
    "    #print(\"q: {} t: {} ind: {}\".format(quality, t, index))\n",
    "\n",
    "    #  Базовый случай - прекращаем рекурсию, когда нет прироста в качества\n",
    "    if quality == 0 or depth >= depth_lim:\n",
    "        return Leaf_Reg(data, labels)\n",
    "\n",
    "    true_data, false_data, true_labels, false_labels = split(data, labels, index, t)\n",
    "\n",
    "    # Рекурсивно строим два поддерева\n",
    "    true_branch = build_tree_reg_depth_lim(true_data, true_labels, depth_lim, depth + 1)\n",
    "    false_branch = build_tree_reg_depth_lim(false_data, false_labels, depth_lim, depth + 1)\n",
    "\n",
    "    # Возвращаем класс узла со всеми поддеревьями, то есть целого дерева\n",
    "    return Node(index, t, true_branch, false_branch)"
   ]
  },
  {
   "cell_type": "code",
   "execution_count": 74,
   "metadata": {},
   "outputs": [],
   "source": [
    "def pred_item(item, node):\n",
    "\n",
    "    #  Останавливаем рекурсию, если достигли листа\n",
    "    if isinstance(node, Leaf_Reg):\n",
    "        answer = node.prediction\n",
    "        return answer\n",
    "\n",
    "    if item[node.index] <= node.t:\n",
    "        return pred_item(item, node.true_branch)\n",
    "    else:\n",
    "        return pred_item(item, node.false_branch)"
   ]
  },
  {
   "cell_type": "code",
   "execution_count": 75,
   "metadata": {},
   "outputs": [],
   "source": [
    "def gb_predict_m(X, trees_list, coef_list, eta):\n",
    "    # Реализуемый алгоритм градиентного бустинга будет инициализироваться нулевыми значениями,\n",
    "    # поэтому все деревья из списка trees_list уже являются дополнительными и при предсказании прибавляются с шагом eta\n",
    "    return np.array([sum([eta * coef * pred_item(x, tree) for tree, coef in zip(trees_list, coef_list)]) for x in X])"
   ]
  },
  {
   "cell_type": "code",
   "execution_count": 76,
   "metadata": {},
   "outputs": [],
   "source": [
    "def mean_squared_error(y_real, prediction):\n",
    "    return (sum((y_real - prediction)**2)) / len(y_real)"
   ]
  },
  {
   "cell_type": "code",
   "execution_count": 77,
   "metadata": {},
   "outputs": [],
   "source": [
    "def bias(y, z):\n",
    "    return (y - z)"
   ]
  },
  {
   "cell_type": "code",
   "execution_count": 78,
   "metadata": {},
   "outputs": [],
   "source": [
    "def gb_fit_lt(n_trees, max_depth, X_train, X_test, y_train, y_test, coefs, eta):\n",
    "    \n",
    "    # Деревья будем записывать в список\n",
    "    trees = []\n",
    "    err_min = np.inf\n",
    "    \n",
    "    # Будем записывать ошибки на обучающей и тестовой выборке на каждой итерации в список\n",
    "    train_errors = []\n",
    "    test_errors = []\n",
    "    \n",
    "    for i in range(n_trees):\n",
    "\n",
    "        # инициализируем бустинг начальным алгоритмом, возвращающим ноль, \n",
    "        # поэтому первый алгоритм просто обучаем на выборке и добавляем в список\n",
    "        if len(trees) == 0:\n",
    "            # обучаем первое дерево на обучающей выборке\n",
    "            tree = build_tree_reg_depth_lim(X_train, y_train, max_depth)\n",
    "            \n",
    "            train_errors.append(mean_squared_error(y_train, gb_predict_m(X_train, trees, coefs, eta)))\n",
    "            test_errors.append(mean_squared_error(y_test, gb_predict_m(X_test, trees, coefs, eta)))\n",
    "        else:\n",
    "            # Получим ответы на текущей композиции\n",
    "            target = gb_predict_m(X_train, trees, coefs, eta)\n",
    "            \n",
    "            # алгоритмы начиная со второго обучаем на сдвиг\n",
    "            tree = build_tree_reg_depth_lim(X_train, bias(y_train, target), max_depth)\n",
    "            \n",
    "            train_errors.append(mean_squared_error(y_train, gb_predict_m(X_train, trees, coefs, eta)))\n",
    "            test_errors.append(mean_squared_error(y_test, gb_predict_m(X_test, trees, coefs, eta)))\n",
    "        \n",
    "            if test_errors[-1]-0.00005 > err_min:\n",
    "                print(len(trees))\n",
    "                break\n",
    "            elif test_errors[-1] < err_min:\n",
    "                err_min = test_errors[-1]\n",
    "\n",
    "        if not (i+1)%10:\n",
    "            print(i+1)\n",
    "        trees.append(tree)\n",
    "        \n",
    "    return trees, train_errors, test_errors"
   ]
  },
  {
   "cell_type": "code",
   "execution_count": 79,
   "metadata": {},
   "outputs": [],
   "source": [
    "def get_error_plot(n_trees, train_err, test_err):\n",
    "    plt.xlabel('Iteration number')\n",
    "    plt.ylabel('MSE')\n",
    "    plt.xlim(2, n_trees+1)\n",
    "    plt.plot(list(range(2, n_trees+1)), train_err[1:], label='train error')\n",
    "    plt.plot(list(range(2, n_trees+1)), test_err[1:], label='test error')\n",
    "    plt.legend(loc='upper right')\n",
    "    plt.show()"
   ]
  },
  {
   "cell_type": "code",
   "execution_count": 80,
   "metadata": {},
   "outputs": [],
   "source": [
    "def grid_mtr(n_trees_l, max_depth_l, eta_l, X, y):\n",
    "    X_train, X_test, y_train, y_test = train_test_split(X, y, test_size=0.25, random_state=42)\n",
    "    err_min = np.inf\n",
    "    for tr in n_trees_l:\n",
    "        for dp in max_depth_l:\n",
    "            for et in eta_l:\n",
    "                coefs = [1] * tr # для простоты примем коэффициенты равными 1\n",
    "                trees, train_errors, test_errors = gb_fit_lt(tr, dp, X_train, X_test, y_train, y_test, coefs, et)\n",
    "                train_prediction = gb_predict_m(X_train, trees, coefs, et)\n",
    "                print(f'Ошибка алгоритма из {len(trees)} деревьев глубиной {dp} с шагом {et} на тренировочной выборке: {mean_squared_error(y_train, train_prediction)}')\n",
    "                test_prediction = gb_predict_m(X_test, trees, coefs, et)\n",
    "                err = mean_squared_error(y_test, test_prediction)\n",
    "                print(f'Ошибка алгоритма из {len(trees)} деревьев глубиной {dp} с шагом {et} на тестовой выборке: {err}')\n",
    "                if err_min > err:\n",
    "                    tr_b = len(trees)\n",
    "                    dp_b = dp\n",
    "                    et_b = et\n",
    "                    err_min = err\n",
    "                get_error_plot(len(train_errors), train_errors, test_errors)\n",
    "    print(f'Лучшие параметры: Ошибка алгоритма из {tr_b} деревьев глубиной {dp_b} с шагом {et_b} на тестовой выборке: {err_min}')\n",
    "    return tr_b, dp_b, et_b"
   ]
  },
  {
   "cell_type": "code",
   "execution_count": 81,
   "metadata": {},
   "outputs": [
    {
     "name": "stdout",
     "output_type": "stream",
     "text": [
      "10\n",
      "20\n",
      "30\n",
      "40\n",
      "50\n",
      "60\n",
      "70\n",
      "80\n",
      "90\n",
      "92\n",
      "Ошибка алгоритма из 92 деревьев глубиной 2 с шагом 0.1 на тренировочной выборке: 45.512046334363106\n",
      "Ошибка алгоритма из 92 деревьев глубиной 2 с шагом 0.1 на тестовой выборке: 45.773685792892906\n"
     ]
    },
    {
     "data": {
      "image/png": "[encoded data removed]",
      "text/plain": [
       "<Figure size 432x288 with 1 Axes>"
      ]
     },
     "metadata": {
      "needs_background": "light"
     },
     "output_type": "display_data"
    },
    {
     "name": "stdout",
     "output_type": "stream",
     "text": [
      "10\n",
      "20\n",
      "30\n",
      "40\n",
      "50\n",
      "60\n",
      "64\n",
      "Ошибка алгоритма из 64 деревьев глубиной 3 с шагом 0.1 на тренировочной выборке: 41.89113667547048\n",
      "Ошибка алгоритма из 64 деревьев глубиной 3 с шагом 0.1 на тестовой выборке: 42.42853366646157\n"
     ]
    },
    {
     "data": {
      "image/png": "[encoded data removed]",
      "text/plain": [
       "<Figure size 432x288 with 1 Axes>"
      ]
     },
     "metadata": {
      "needs_background": "light"
     },
     "output_type": "display_data"
    },
    {
     "name": "stdout",
     "output_type": "stream",
     "text": [
      "10\n",
      "20\n",
      "30\n",
      "40\n",
      "50\n",
      "53\n",
      "Ошибка алгоритма из 53 деревьев глубиной 4 с шагом 0.1 на тренировочной выборке: 39.30172692274517\n",
      "Ошибка алгоритма из 53 деревьев глубиной 4 с шагом 0.1 на тестовой выборке: 40.93614033110244\n"
     ]
    },
    {
     "data": {
      "image/png": "[encoded data removed]",
      "text/plain": [
       "<Figure size 432x288 with 1 Axes>"
      ]
     },
     "metadata": {
      "needs_background": "light"
     },
     "output_type": "display_data"
    },
    {
     "name": "stdout",
     "output_type": "stream",
     "text": [
      "10\n",
      "20\n",
      "30\n",
      "40\n",
      "50\n",
      "50\n",
      "Ошибка алгоритма из 50 деревьев глубиной 5 с шагом 0.1 на тренировочной выборке: 37.18012167521226\n",
      "Ошибка алгоритма из 50 деревьев глубиной 5 с шагом 0.1 на тестовой выборке: 40.0707502386174\n"
     ]
    },
    {
     "data": {
      "image/png": "[encoded data removed]",
      "text/plain": [
       "<Figure size 432x288 with 1 Axes>"
      ]
     },
     "metadata": {
      "needs_background": "light"
     },
     "output_type": "display_data"
    },
    {
     "name": "stdout",
     "output_type": "stream",
     "text": [
      "10\n",
      "20\n",
      "30\n",
      "40\n",
      "49\n",
      "Ошибка алгоритма из 49 деревьев глубиной 6 с шагом 0.1 на тренировочной выборке: 34.297597858739415\n",
      "Ошибка алгоритма из 49 деревьев глубиной 6 с шагом 0.1 на тестовой выборке: 40.08273590141749\n"
     ]
    },
    {
     "data": {
      "image/png": "[encoded data removed]",
      "text/plain": [
       "<Figure size 432x288 with 1 Axes>"
      ]
     },
     "metadata": {
      "needs_background": "light"
     },
     "output_type": "display_data"
    },
    {
     "name": "stdout",
     "output_type": "stream",
     "text": [
      "Лучшие параметры: Ошибка алгоритма из 50 деревьев глубиной 5 с шагом 0.1 на тестовой выборке: 40.0707502386174\n"
     ]
    }
   ],
   "source": [
    "n_trees_l = [350]\n",
    "max_depth_l = [2, 3, 4, 5, 6]\n",
    "eta_l = [0.1]\n",
    "\n",
    "tr_b, dp_b, et_b = grid_mtr(n_trees_l, max_depth_l, eta_l, X_r, y_r)"
   ]
  },
  {
   "cell_type": "markdown",
   "metadata": {},
   "source": [
    "Ошибка алгоритма из 10 деревьев глубиной 3 с шагом 1 на тренировочной выборке: 41.85032639612631\n",
    "\n",
    "Ошибка алгоритма из 10 деревьев глубиной 3 с шагом 1 на тестовой выборке: 42.89189222152119\n",
    "\n",
    "Ошибка алгоритма из 10 деревьев глубиной 3 с шагом 0.1 на тренировочной выборке: 572.8473411680155\n",
    "\n",
    "Ошибка алгоритма из 10 деревьев глубиной 3 с шагом 0.1 на тестовой выборке: 574.893182109124\n",
    "\n",
    "Ошибка алгоритма из 10 деревьев глубиной 5 с шагом 1 на тренировочной выборке: 35.759331381826996\n",
    "\n",
    "Ошибка алгоритма из 10 деревьев глубиной 5 с шагом 1 на тестовой выборке: 43.89510402271741\n",
    "\n",
    "Ошибка алгоритма из 10 деревьев глубиной 5 с шагом 0.1 на тренировочной выборке: 562.3994214587036\n",
    "\n",
    "Ошибка алгоритма из 10 деревьев глубиной 5 с шагом 0.1 на тестовой выборке: 563.976102338061\n",
    "\n",
    "Ошибка алгоритма из 100 деревьев глубиной 3 с шагом 1 на тренировочной выборке: 34.81778222149674\n",
    "\n",
    "Ошибка алгоритма из 100 деревьев глубиной 3 с шагом 1 на тестовой выборке: 42.39123563605255\n",
    "\n",
    "Ошибка алгоритма из 100 деревьев глубиной 3 с шагом 0.1 на тренировочной выборке: 40.53835649064402\n",
    "\n",
    "Ошибка алгоритма из 100 деревьев глубиной 3 с шагом 0.1 на тестовой выборке: 41.71821615536555\n",
    "\n",
    "Ошибка алгоритма из 100 деревьев глубиной 5 с шагом 1 на тренировочной выборке: 24.808303083037085\n",
    "\n",
    "Ошибка алгоритма из 100 деревьев глубиной 5 с шагом 1 на тестовой выборке: 51.84322827702307\n",
    "\n",
    "Ошибка алгоритма из 100 деревьев глубиной 5 с шагом 0.1 на тренировочной выборке: 34.61620200766768\n",
    "\n",
    "Ошибка алгоритма из 100 деревьев глубиной 5 с шагом 0.1 на тестовой выборке: 40.00489589817885"
   ]
  },
  {
   "cell_type": "markdown",
   "metadata": {},
   "source": [
    "Лучшие параметры: Ошибка алгоритма из 100 деревьев глубиной 5 с шагом 0.1 на тестовой выборке: 40.00489589817885"
   ]
  },
  {
   "cell_type": "code",
   "execution_count": 82,
   "metadata": {},
   "outputs": [],
   "source": [
    "def gb_fit_lt_half_div(n_trees, max_depth, X_train, X_test, y_train, y_test, coefs, eta):\n",
    "    \n",
    "    # Деревья будем записывать в список\n",
    "    trees = []\n",
    "    \n",
    "    # Будем записывать ошибки на обучающей и тестовой выборке на каждой итерации в список\n",
    "    train_errors = []\n",
    "    test_errors = []\n",
    "    \n",
    "    half_n = X_train.shape[0] // 2\n",
    "        \n",
    "    for i in range(n_trees):\n",
    "        if i % 2:\n",
    "            b = 1\n",
    "        else:\n",
    "            b = 0\n",
    "        beg_b = half_n*b\n",
    "        end_b = half_n*(b+1)\n",
    "        X_tr = X[beg_b : end_b, :]\n",
    "        y_tr = y[beg_b : end_b]\n",
    "        \n",
    "        # инициализируем бустинг начальным алгоритмом, возвращающим ноль, \n",
    "        # поэтому первый алгоритм просто обучаем на выборке и добавляем в список\n",
    "        if len(trees) == 0:\n",
    "            # обучаем первое дерево на обучающей выборке\n",
    "            \n",
    "            tree = build_tree_reg_depth_lim(X_tr, y_tr, max_depth)\n",
    "\n",
    "            train_errors.append(mean_squared_error(y_tr, gb_predict_m(X_tr, trees, coefs, eta)))\n",
    "            test_errors.append(mean_squared_error(y_test, gb_predict_m(X_test, trees, coefs, eta)))\n",
    "        else:\n",
    "            # Получим ответы на текущей композиции\n",
    "            target = gb_predict_m(X_tr, trees, coefs, eta)\n",
    "\n",
    "            # алгоритмы начиная со второго обучаем на сдвиг\n",
    "            tree = build_tree_reg_depth_lim(X_tr, bias(y_tr, target), max_depth)\n",
    "\n",
    "            train_errors.append(mean_squared_error(y_tr, gb_predict_m(X_tr, trees, coefs, eta)))\n",
    "            test_errors.append(mean_squared_error(y_test, gb_predict_m(X_test, trees, coefs, eta)))\n",
    "\n",
    "        trees.append(tree)\n",
    "        \n",
    "    return trees, train_errors, test_errors"
   ]
  },
  {
   "cell_type": "code",
   "execution_count": 83,
   "metadata": {},
   "outputs": [],
   "source": [
    "def grid_mtr_hd(n_trees_l, max_depth_l, eta_l, X, y):\n",
    "    X_train, X_test, y_train, y_test = train_test_split(X, y, test_size=0.25, random_state=42)\n",
    "    err_min = np.inf\n",
    "    for tr in n_trees_l:\n",
    "        for dp in max_depth_l:\n",
    "            for et in eta_l:\n",
    "                coefs = [1] * tr # для простоты примем коэффициенты равными 1\n",
    "                trees, train_errors, test_errors = gb_fit_lt_half_div(tr, dp, X_train, X_test, y_train, y_test, coefs, et)\n",
    "                train_prediction = gb_predict_m(X_train, trees, coefs, et)\n",
    "                print(f'Ошибка алгоритма из {tr} деревьев глубиной {dp} с шагом {et} на тренировочной выборке: {mean_squared_error(y_train, train_prediction)}')\n",
    "                test_prediction = gb_predict_m(X_test, trees, coefs, et)\n",
    "                err = mean_squared_error(y_test, test_prediction)\n",
    "                print(f'Ошибка алгоритма из {tr} деревьев глубиной {dp} с шагом {et} на тестовой выборке: {err}')\n",
    "                if err_min > err:\n",
    "                    tr_b = tr\n",
    "                    dp_b = dp\n",
    "                    et_b = et\n",
    "                    err_min = err\n",
    "                get_error_plot(tr, train_errors, test_errors)\n",
    "    print(f'Лучшие параметры: Ошибка алгоритма из {tr} деревьев глубиной {dp} с шагом {et} на тестовой выборке: {err_min}')\n",
    "    return tr_b, dp_b, et_b"
   ]
  },
  {
   "cell_type": "code",
   "execution_count": 84,
   "metadata": {},
   "outputs": [],
   "source": [
    "# n_trees_l = [10, 20]\n",
    "# max_depth_l = [3, 5]\n",
    "# eta_l = [1, 0.1]\n",
    "\n",
    "# grid_mtr_hd(n_trees_l, max_depth_l, eta_l, X, y)"
   ]
  },
  {
   "cell_type": "markdown",
   "metadata": {},
   "source": [
    "Ошибка алгоритма из 10 деревьев глубиной 3 с шагом 1 на тренировочной выборке: 42.70422172191151\n",
    "\n",
    "Ошибка алгоритма из 10 деревьев глубиной 3 с шагом 1 на тестовой выборке: 41.539402682141215\n",
    "\n",
    "Ошибка алгоритма из 10 деревьев глубиной 3 с шагом 0.1 на тренировочной выборке: 571.9243308818674\n",
    "\n",
    "Ошибка алгоритма из 10 деревьев глубиной 3 с шагом 0.1 на тестовой выборке: 573.9409296079313\n",
    "\n",
    "Ошибка алгоритма из 10 деревьев глубиной 5 с шагом 1 на тренировочной выборке: 41.473279828165296\n",
    "\n",
    "Ошибка алгоритма из 10 деревьев глубиной 5 с шагом 1 на тестовой выборке: 41.03750497923822\n",
    "\n",
    "Ошибка алгоритма из 10 деревьев глубиной 5 с шагом 0.1 на тренировочной выборке: 563.2971153354056\n",
    "\n",
    "Ошибка алгоритма из 10 деревьев глубиной 5 с шагом 0.1 на тестовой выборке: 565.1061224587446\n",
    "\n",
    "Ошибка алгоритма из 100 деревьев глубиной 3 с шагом 1 на тренировочной выборке: 42.21129533444066\n",
    "\n",
    "Ошибка алгоритма из 100 деревьев глубиной 3 с шагом 1 на тестовой выборке: 41.23236827909047\n",
    "\n",
    "Ошибка алгоритма из 100 деревьев глубиной 3 с шагом 0.1 на тренировочной выборке: 41.59138863736706\n",
    "\n",
    "Ошибка алгоритма из 100 деревьев глубиной 3 с шагом 0.1 на тестовой выборке: 40.98707632425514\n",
    "\n",
    "Ошибка алгоритма из 100 деревьев глубиной 5 с шагом 1 на тренировочной выборке: 42.028156812894004\n",
    "\n",
    "Ошибка алгоритма из 100 деревьев глубиной 5 с шагом 1 на тестовой выборке: 40.08066139900216\n",
    "\n",
    "Ошибка алгоритма из 100 деревьев глубиной 5 с шагом 0.1 на тренировочной выборке: 38.020462790374985\n",
    "\n",
    "Ошибка алгоритма из 100 деревьев глубиной 5 с шагом 0.1 на тестовой выборке: 36.069617631755264\n"
   ]
  },
  {
   "cell_type": "markdown",
   "metadata": {},
   "source": [
    "Лучшие параметры: Ошибка алгоритма из 100 деревьев глубиной 5 с шагом 0.1 на тестовой выборке: 36.069617631755264"
   ]
  },
  {
   "cell_type": "code",
   "execution_count": 85,
   "metadata": {},
   "outputs": [],
   "source": [
    "def gb_fit_fin(n_trees, max_depth, X, y, coefs, eta):\n",
    "    \n",
    "    # Деревья будем записывать в список\n",
    "    trees = []\n",
    "    \n",
    "    # Будем записывать ошибки\n",
    "    errors = []\n",
    "    \n",
    "    for i in range(n_trees):\n",
    "\n",
    "        # инициализируем бустинг начальным алгоритмом, возвращающим ноль, \n",
    "        # поэтому первый алгоритм просто обучаем на выборке и добавляем в список\n",
    "        if len(trees) == 0:\n",
    "            # обучаем первое дерево на обучающей выборке\n",
    "            tree = build_tree_reg_depth_lim(X, y, max_depth)\n",
    "            \n",
    "            errors.append(mean_squared_error(y, gb_predict_m(X, trees, coefs, eta)))\n",
    "        else:\n",
    "            # Получим ответы на текущей композиции\n",
    "            target = gb_predict_m(X, trees, coefs, eta)\n",
    "            \n",
    "            # алгоритмы начиная со второго обучаем на сдвиг\n",
    "            tree = build_tree_reg_depth_lim(X, bias(y, target), max_depth)\n",
    "            \n",
    "            errors.append(mean_squared_error(y, gb_predict_m(X, trees, coefs, eta)))\n",
    "\n",
    "        trees.append(tree)\n",
    "        \n",
    "    return trees, errors"
   ]
  },
  {
   "cell_type": "code",
   "execution_count": 86,
   "metadata": {},
   "outputs": [],
   "source": [
    "def gb_fit_fin_hd(n_trees, max_depth, X, y, coefs, eta):\n",
    "    \n",
    "    # Деревья будем записывать в список\n",
    "    trees = []\n",
    "    \n",
    "    # Будем записывать ошибки\n",
    "    errors = []\n",
    "    \n",
    "    half_n = X.shape[0] // 2\n",
    "    \n",
    "    for i in range(n_trees):\n",
    "\n",
    "        if i % 2:\n",
    "            b = 1\n",
    "        else:\n",
    "            b = 0\n",
    "        beg_b = half_n*b\n",
    "        end_b = half_n*(b+1)\n",
    "        X_b = X[beg_b : end_b, :]\n",
    "        y_b = y[beg_b : end_b]\n",
    "\n",
    "        # инициализируем бустинг начальным алгоритмом, возвращающим ноль, \n",
    "        # поэтому первый алгоритм просто обучаем на выборке и добавляем в список\n",
    "        if len(trees) == 0:\n",
    "            # обучаем первое дерево на обучающей выборке\n",
    "            tree = build_tree_reg_depth_lim(X_b, y_b, max_depth)\n",
    "            \n",
    "            errors.append(mean_squared_error(y_b, gb_predict_m(X_b, trees, coefs, eta)))\n",
    "        else:\n",
    "            # Получим ответы на текущей композиции\n",
    "            target = gb_predict_m(X_b, trees, coefs, eta)\n",
    "            \n",
    "            # алгоритмы начиная со второго обучаем на сдвиг\n",
    "            tree = build_tree_reg_depth_lim(X_b, bias(y_b, target), max_depth)\n",
    "            \n",
    "            errors.append(mean_squared_error(y_b, gb_predict_m(X_b, trees, coefs, eta)))\n",
    "\n",
    "        trees.append(tree)\n",
    "        \n",
    "    return trees, errors"
   ]
  },
  {
   "cell_type": "code",
   "execution_count": 88,
   "metadata": {},
   "outputs": [],
   "source": [
    "coefs = [1] * tr_b # для простоты примем коэффициенты равными 1\n",
    "\n",
    "trees, errors = gb_fit_fin(tr_b, dp_b, X_r, y_r, coefs, et_b)"
   ]
  },
  {
   "cell_type": "code",
   "execution_count": 89,
   "metadata": {},
   "outputs": [
    {
     "data": {
      "text/plain": [
       "array([54.35267733, 62.85767892, 48.23642062, ..., 54.17657277,\n",
       "       64.21608391, 69.07970134])"
      ]
     },
     "execution_count": 89,
     "metadata": {},
     "output_type": "execute_result"
    }
   ],
   "source": [
    "prediction = gb_predict_m(test_X_r, trees, coefs, et_b)\n",
    "prediction"
   ]
  },
  {
   "cell_type": "code",
   "execution_count": 90,
   "metadata": {},
   "outputs": [
    {
     "data": {
      "text/html": [
       "<div>\n",
       "<style scoped>\n",
       "    .dataframe tbody tr th:only-of-type {\n",
       "        vertical-align: middle;\n",
       "    }\n",
       "\n",
       "    .dataframe tbody tr th {\n",
       "        vertical-align: top;\n",
       "    }\n",
       "\n",
       "    .dataframe thead th {\n",
       "        text-align: right;\n",
       "    }\n",
       "</style>\n",
       "<table border=\"1\" class=\"dataframe\">\n",
       "  <thead>\n",
       "    <tr style=\"text-align: right;\">\n",
       "      <th></th>\n",
       "      <th>Id</th>\n",
       "      <th>mean_exam_points</th>\n",
       "    </tr>\n",
       "  </thead>\n",
       "  <tbody>\n",
       "    <tr>\n",
       "      <th>0</th>\n",
       "      <td>10000</td>\n",
       "      <td>54.352677</td>\n",
       "    </tr>\n",
       "    <tr>\n",
       "      <th>1</th>\n",
       "      <td>10001</td>\n",
       "      <td>62.857679</td>\n",
       "    </tr>\n",
       "    <tr>\n",
       "      <th>2</th>\n",
       "      <td>10002</td>\n",
       "      <td>48.236421</td>\n",
       "    </tr>\n",
       "    <tr>\n",
       "      <th>3</th>\n",
       "      <td>10003</td>\n",
       "      <td>90.792668</td>\n",
       "    </tr>\n",
       "    <tr>\n",
       "      <th>4</th>\n",
       "      <td>10004</td>\n",
       "      <td>88.816690</td>\n",
       "    </tr>\n",
       "    <tr>\n",
       "      <th>5</th>\n",
       "      <td>10005</td>\n",
       "      <td>61.102855</td>\n",
       "    </tr>\n",
       "    <tr>\n",
       "      <th>6</th>\n",
       "      <td>10006</td>\n",
       "      <td>42.509173</td>\n",
       "    </tr>\n",
       "    <tr>\n",
       "      <th>7</th>\n",
       "      <td>10007</td>\n",
       "      <td>54.606261</td>\n",
       "    </tr>\n",
       "    <tr>\n",
       "      <th>8</th>\n",
       "      <td>10008</td>\n",
       "      <td>58.049518</td>\n",
       "    </tr>\n",
       "    <tr>\n",
       "      <th>9</th>\n",
       "      <td>10009</td>\n",
       "      <td>78.840065</td>\n",
       "    </tr>\n",
       "    <tr>\n",
       "      <th>10</th>\n",
       "      <td>10010</td>\n",
       "      <td>53.043110</td>\n",
       "    </tr>\n",
       "    <tr>\n",
       "      <th>11</th>\n",
       "      <td>10011</td>\n",
       "      <td>62.181251</td>\n",
       "    </tr>\n",
       "    <tr>\n",
       "      <th>12</th>\n",
       "      <td>10012</td>\n",
       "      <td>53.595066</td>\n",
       "    </tr>\n",
       "    <tr>\n",
       "      <th>13</th>\n",
       "      <td>10013</td>\n",
       "      <td>84.505512</td>\n",
       "    </tr>\n",
       "    <tr>\n",
       "      <th>14</th>\n",
       "      <td>10014</td>\n",
       "      <td>64.216084</td>\n",
       "    </tr>\n",
       "    <tr>\n",
       "      <th>15</th>\n",
       "      <td>10015</td>\n",
       "      <td>60.904600</td>\n",
       "    </tr>\n",
       "    <tr>\n",
       "      <th>16</th>\n",
       "      <td>10016</td>\n",
       "      <td>89.921848</td>\n",
       "    </tr>\n",
       "    <tr>\n",
       "      <th>17</th>\n",
       "      <td>10017</td>\n",
       "      <td>54.076623</td>\n",
       "    </tr>\n",
       "    <tr>\n",
       "      <th>18</th>\n",
       "      <td>10018</td>\n",
       "      <td>54.792844</td>\n",
       "    </tr>\n",
       "    <tr>\n",
       "      <th>19</th>\n",
       "      <td>10019</td>\n",
       "      <td>54.175295</td>\n",
       "    </tr>\n",
       "    <tr>\n",
       "      <th>20</th>\n",
       "      <td>10020</td>\n",
       "      <td>78.576719</td>\n",
       "    </tr>\n",
       "    <tr>\n",
       "      <th>21</th>\n",
       "      <td>10021</td>\n",
       "      <td>59.284741</td>\n",
       "    </tr>\n",
       "    <tr>\n",
       "      <th>22</th>\n",
       "      <td>10022</td>\n",
       "      <td>67.886177</td>\n",
       "    </tr>\n",
       "    <tr>\n",
       "      <th>23</th>\n",
       "      <td>10023</td>\n",
       "      <td>61.102855</td>\n",
       "    </tr>\n",
       "    <tr>\n",
       "      <th>24</th>\n",
       "      <td>10024</td>\n",
       "      <td>56.149417</td>\n",
       "    </tr>\n",
       "    <tr>\n",
       "      <th>25</th>\n",
       "      <td>10025</td>\n",
       "      <td>81.958343</td>\n",
       "    </tr>\n",
       "    <tr>\n",
       "      <th>26</th>\n",
       "      <td>10026</td>\n",
       "      <td>59.974938</td>\n",
       "    </tr>\n",
       "    <tr>\n",
       "      <th>27</th>\n",
       "      <td>10027</td>\n",
       "      <td>54.150821</td>\n",
       "    </tr>\n",
       "    <tr>\n",
       "      <th>28</th>\n",
       "      <td>10028</td>\n",
       "      <td>60.813401</td>\n",
       "    </tr>\n",
       "    <tr>\n",
       "      <th>29</th>\n",
       "      <td>10029</td>\n",
       "      <td>55.369239</td>\n",
       "    </tr>\n",
       "    <tr>\n",
       "      <th>...</th>\n",
       "      <td>...</td>\n",
       "      <td>...</td>\n",
       "    </tr>\n",
       "    <tr>\n",
       "      <th>9970</th>\n",
       "      <td>19970</td>\n",
       "      <td>84.223989</td>\n",
       "    </tr>\n",
       "    <tr>\n",
       "      <th>9971</th>\n",
       "      <td>19971</td>\n",
       "      <td>59.051451</td>\n",
       "    </tr>\n",
       "    <tr>\n",
       "      <th>9972</th>\n",
       "      <td>19972</td>\n",
       "      <td>58.227914</td>\n",
       "    </tr>\n",
       "    <tr>\n",
       "      <th>9973</th>\n",
       "      <td>19973</td>\n",
       "      <td>60.272994</td>\n",
       "    </tr>\n",
       "    <tr>\n",
       "      <th>9974</th>\n",
       "      <td>19974</td>\n",
       "      <td>54.087931</td>\n",
       "    </tr>\n",
       "    <tr>\n",
       "      <th>9975</th>\n",
       "      <td>19975</td>\n",
       "      <td>53.851606</td>\n",
       "    </tr>\n",
       "    <tr>\n",
       "      <th>9976</th>\n",
       "      <td>19976</td>\n",
       "      <td>58.428303</td>\n",
       "    </tr>\n",
       "    <tr>\n",
       "      <th>9977</th>\n",
       "      <td>19977</td>\n",
       "      <td>53.043110</td>\n",
       "    </tr>\n",
       "    <tr>\n",
       "      <th>9978</th>\n",
       "      <td>19978</td>\n",
       "      <td>56.836389</td>\n",
       "    </tr>\n",
       "    <tr>\n",
       "      <th>9979</th>\n",
       "      <td>19979</td>\n",
       "      <td>66.827241</td>\n",
       "    </tr>\n",
       "    <tr>\n",
       "      <th>9980</th>\n",
       "      <td>19980</td>\n",
       "      <td>68.669585</td>\n",
       "    </tr>\n",
       "    <tr>\n",
       "      <th>9981</th>\n",
       "      <td>19981</td>\n",
       "      <td>50.566767</td>\n",
       "    </tr>\n",
       "    <tr>\n",
       "      <th>9982</th>\n",
       "      <td>19982</td>\n",
       "      <td>55.581788</td>\n",
       "    </tr>\n",
       "    <tr>\n",
       "      <th>9983</th>\n",
       "      <td>19983</td>\n",
       "      <td>81.527363</td>\n",
       "    </tr>\n",
       "    <tr>\n",
       "      <th>9984</th>\n",
       "      <td>19984</td>\n",
       "      <td>55.678387</td>\n",
       "    </tr>\n",
       "    <tr>\n",
       "      <th>9985</th>\n",
       "      <td>19985</td>\n",
       "      <td>60.727044</td>\n",
       "    </tr>\n",
       "    <tr>\n",
       "      <th>9986</th>\n",
       "      <td>19986</td>\n",
       "      <td>57.007148</td>\n",
       "    </tr>\n",
       "    <tr>\n",
       "      <th>9987</th>\n",
       "      <td>19987</td>\n",
       "      <td>60.806224</td>\n",
       "    </tr>\n",
       "    <tr>\n",
       "      <th>9988</th>\n",
       "      <td>19988</td>\n",
       "      <td>53.043110</td>\n",
       "    </tr>\n",
       "    <tr>\n",
       "      <th>9989</th>\n",
       "      <td>19989</td>\n",
       "      <td>62.699160</td>\n",
       "    </tr>\n",
       "    <tr>\n",
       "      <th>9990</th>\n",
       "      <td>19990</td>\n",
       "      <td>52.396150</td>\n",
       "    </tr>\n",
       "    <tr>\n",
       "      <th>9991</th>\n",
       "      <td>19991</td>\n",
       "      <td>59.738198</td>\n",
       "    </tr>\n",
       "    <tr>\n",
       "      <th>9992</th>\n",
       "      <td>19992</td>\n",
       "      <td>70.245040</td>\n",
       "    </tr>\n",
       "    <tr>\n",
       "      <th>9993</th>\n",
       "      <td>19993</td>\n",
       "      <td>59.978314</td>\n",
       "    </tr>\n",
       "    <tr>\n",
       "      <th>9994</th>\n",
       "      <td>19994</td>\n",
       "      <td>88.652392</td>\n",
       "    </tr>\n",
       "    <tr>\n",
       "      <th>9995</th>\n",
       "      <td>19995</td>\n",
       "      <td>42.327320</td>\n",
       "    </tr>\n",
       "    <tr>\n",
       "      <th>9996</th>\n",
       "      <td>19996</td>\n",
       "      <td>78.893848</td>\n",
       "    </tr>\n",
       "    <tr>\n",
       "      <th>9997</th>\n",
       "      <td>19997</td>\n",
       "      <td>54.176573</td>\n",
       "    </tr>\n",
       "    <tr>\n",
       "      <th>9998</th>\n",
       "      <td>19998</td>\n",
       "      <td>64.216084</td>\n",
       "    </tr>\n",
       "    <tr>\n",
       "      <th>9999</th>\n",
       "      <td>19999</td>\n",
       "      <td>69.079701</td>\n",
       "    </tr>\n",
       "  </tbody>\n",
       "</table>\n",
       "<p>10000 rows × 2 columns</p>\n",
       "</div>"
      ],
      "text/plain": [
       "         Id  mean_exam_points\n",
       "0     10000         54.352677\n",
       "1     10001         62.857679\n",
       "2     10002         48.236421\n",
       "3     10003         90.792668\n",
       "4     10004         88.816690\n",
       "5     10005         61.102855\n",
       "6     10006         42.509173\n",
       "7     10007         54.606261\n",
       "8     10008         58.049518\n",
       "9     10009         78.840065\n",
       "10    10010         53.043110\n",
       "11    10011         62.181251\n",
       "12    10012         53.595066\n",
       "13    10013         84.505512\n",
       "14    10014         64.216084\n",
       "15    10015         60.904600\n",
       "16    10016         89.921848\n",
       "17    10017         54.076623\n",
       "18    10018         54.792844\n",
       "19    10019         54.175295\n",
       "20    10020         78.576719\n",
       "21    10021         59.284741\n",
       "22    10022         67.886177\n",
       "23    10023         61.102855\n",
       "24    10024         56.149417\n",
       "25    10025         81.958343\n",
       "26    10026         59.974938\n",
       "27    10027         54.150821\n",
       "28    10028         60.813401\n",
       "29    10029         55.369239\n",
       "...     ...               ...\n",
       "9970  19970         84.223989\n",
       "9971  19971         59.051451\n",
       "9972  19972         58.227914\n",
       "9973  19973         60.272994\n",
       "9974  19974         54.087931\n",
       "9975  19975         53.851606\n",
       "9976  19976         58.428303\n",
       "9977  19977         53.043110\n",
       "9978  19978         56.836389\n",
       "9979  19979         66.827241\n",
       "9980  19980         68.669585\n",
       "9981  19981         50.566767\n",
       "9982  19982         55.581788\n",
       "9983  19983         81.527363\n",
       "9984  19984         55.678387\n",
       "9985  19985         60.727044\n",
       "9986  19986         57.007148\n",
       "9987  19987         60.806224\n",
       "9988  19988         53.043110\n",
       "9989  19989         62.699160\n",
       "9990  19990         52.396150\n",
       "9991  19991         59.738198\n",
       "9992  19992         70.245040\n",
       "9993  19993         59.978314\n",
       "9994  19994         88.652392\n",
       "9995  19995         42.327320\n",
       "9996  19996         78.893848\n",
       "9997  19997         54.176573\n",
       "9998  19998         64.216084\n",
       "9999  19999         69.079701\n",
       "\n",
       "[10000 rows x 2 columns]"
      ]
     },
     "execution_count": 90,
     "metadata": {},
     "output_type": "execute_result"
    }
   ],
   "source": [
    "res = test_r[['Id']].copy()\n",
    "res = pd.concat([res, pd.DataFrame(prediction, columns=['mean_exam_points'])], axis=1)\n",
    "res"
   ]
  },
  {
   "cell_type": "code",
   "execution_count": 91,
   "metadata": {},
   "outputs": [],
   "source": [
    "res.to_csv(\"viv_reg_03.csv\", sep=\",\", index=False)"
   ]
  },
  {
   "cell_type": "code",
   "execution_count": null,
   "metadata": {},
   "outputs": [],
   "source": []
  }
 ],
 "metadata": {
  "kernelspec": {
   "display_name": "Python 3",
   "language": "python",
   "name": "python3"
  },
  "language_info": {
   "codemirror_mode": {
    "name": "ipython",
    "version": 3
   },
   "file_extension": ".py",
   "mimetype": "text/x-python",
   "name": "python",
   "nbconvert_exporter": "python",
   "pygments_lexer": "ipython3",
   "version": "3.7.3"
  }
 },
 "nbformat": 4,
 "nbformat_minor": 4
}
