{
 "cells": [
  {
   "cell_type": "code",
   "execution_count": 175,
   "metadata": {},
   "outputs": [],
   "source": [
    "import numpy as np\n",
    "import matplotlib.pyplot as plt"
   ]
  },
  {
   "cell_type": "code",
   "execution_count": 176,
   "metadata": {},
   "outputs": [],
   "source": [
    "X = np.array([[1, 1, 1, 1, 1, 1, 1, 1, 1, 1],\n",
    "              [1, 1, 2, 1, 3, 0, 5, 10, 1, 2],\n",
    "              [500, 700, 750, 600, 1450, 800, 1500, 2000, 450, 1000],\n",
    "              [1, 1, 2, 1, 2, 1, 3, 3, 1, 2]], dtype = np.float64)\n",
    "y = np.array([0, 0, 1, 0, 1, 0, 1, 0, 1, 1], dtype = np.float64)"
   ]
  },
  {
   "cell_type": "code",
   "execution_count": 177,
   "metadata": {},
   "outputs": [],
   "source": [
    "def calc_std_feat(x):\n",
    "    res = (x - x.mean()) / x.std()\n",
    "    return res"
   ]
  },
  {
   "cell_type": "markdown",
   "metadata": {},
   "source": [
    "# ДЗ №3 Гладышев В.В."
   ]
  },
  {
   "cell_type": "markdown",
   "metadata": {},
   "source": [
    "## Задание № 1"
   ]
  },
  {
   "cell_type": "markdown",
   "metadata": {},
   "source": [
    "Измените функцию calc_logloss так, чтобы нули по возможности не попадали в np.log"
   ]
  },
  {
   "cell_type": "code",
   "execution_count": 178,
   "metadata": {},
   "outputs": [],
   "source": [
    "X_st = X.copy()"
   ]
  },
  {
   "cell_type": "code",
   "execution_count": 179,
   "metadata": {},
   "outputs": [
    {
     "data": {
      "text/plain": [
       "array([[ 1.        ,  1.        ,  1.        ,  1.        ,  1.        ,\n",
       "         1.        ,  1.        ,  1.        ,  1.        ,  1.        ],\n",
       "       [-0.57142857, -0.57142857, -0.21428571, -0.57142857,  0.14285714,\n",
       "        -0.92857143,  0.85714286,  2.64285714, -0.57142857, -0.21428571],\n",
       "       [-0.97958969, -0.56713087, -0.46401617, -0.77336028,  0.97958969,\n",
       "        -0.36090146,  1.08270439,  2.11385144, -1.08270439,  0.05155735],\n",
       "       [-0.89625816, -0.89625816,  0.38411064, -0.89625816,  0.38411064,\n",
       "        -0.89625816,  1.66447944,  1.66447944, -0.89625816,  0.38411064]])"
      ]
     },
     "execution_count": 179,
     "metadata": {},
     "output_type": "execute_result"
    }
   ],
   "source": [
    "X_st = X.copy()\n",
    "X_st[1, :] = calc_std_feat(X[1, :])\n",
    "X_st[2, :] = calc_std_feat(X[2, :])\n",
    "X_st[3, :] = calc_std_feat(X[3, :])\n",
    "X_st"
   ]
  },
  {
   "cell_type": "code",
   "execution_count": 180,
   "metadata": {},
   "outputs": [],
   "source": [
    "def calc_logloss(y, y_pred):\n",
    "    y_pred[y_pred == 0] = 1e-12\n",
    "    y_pred[y_pred == 1] -= 1e-12\n",
    "\n",
    "    err = - np.mean(y * np.log(y_pred) + (1.0 - y) * np.log(1.0 - y_pred))\n",
    "    return err"
   ]
  },
  {
   "cell_type": "code",
   "execution_count": 181,
   "metadata": {},
   "outputs": [],
   "source": [
    "def sigmoid(z):\n",
    "    res = 1 / (1 + np.exp(-z))\n",
    "    return res"
   ]
  },
  {
   "cell_type": "code",
   "execution_count": 184,
   "metadata": {},
   "outputs": [],
   "source": [
    "def eval_model(X, y, iterations, alpha=1e-4):\n",
    "    np.random.seed(42)\n",
    "    W = np.random.randn(X.shape[0])\n",
    "    n = X.shape[1]\n",
    "    for i in range(1, iterations+1):\n",
    "        z = np.dot(W, X)\n",
    "        y_pred = sigmoid(z)\n",
    "        err = calc_logloss(y, y_pred)\n",
    "        W -= alpha * (1/n * np.dot((y_pred - y), X.T))\n",
    "        if i % (iterations / 10) == 0:\n",
    "            print(\"Итерация: {}\\tW: {}\\terr: {:.6f}\".format(i, W, err))\n",
    "    return W"
   ]
  },
  {
   "cell_type": "code",
   "execution_count": 185,
   "metadata": {},
   "outputs": [
    {
     "name": "stdout",
     "output_type": "stream",
     "text": [
      "Итерация: 100\tW: [ 0.49635335 -0.14077362  0.64537112  1.52180639]\terr: 0.762532\n",
      "Итерация: 200\tW: [ 0.49598986 -0.14327981  0.64305753  1.52058688]\terr: 0.761207\n",
      "Итерация: 300\tW: [ 0.49562367 -0.14578284  0.64074779  1.51937134]\terr: 0.759886\n",
      "Итерация: 400\tW: [ 0.49525481 -0.14828271  0.63844189  1.51815977]\terr: 0.758569\n",
      "Итерация: 500\tW: [ 0.49488327 -0.15077942  0.63613984  1.51695219]\terr: 0.757256\n",
      "Итерация: 600\tW: [ 0.49450906 -0.15327296  0.63384165  1.51574858]\terr: 0.755947\n",
      "Итерация: 700\tW: [ 0.4941322  -0.15576332  0.63154733  1.51454897]\terr: 0.754642\n",
      "Итерация: 800\tW: [ 0.49375269 -0.1582505   0.62925688  1.51335335]\terr: 0.753342\n",
      "Итерация: 900\tW: [ 0.49337053 -0.16073448  0.62697031  1.51216173]\terr: 0.752045\n",
      "Итерация: 1000\tW: [ 0.49298574 -0.16321527  0.62468762  1.51097412]\terr: 0.750753\n"
     ]
    }
   ],
   "source": [
    "W = eval_model(X_st, y, iterations=1000, alpha=1e-4)"
   ]
  },
  {
   "cell_type": "markdown",
   "metadata": {},
   "source": [
    "## Задание № 2"
   ]
  },
  {
   "cell_type": "markdown",
   "metadata": {},
   "source": [
    "Подберите аргументы функции eval_model для логистической регрессии таким образом, чтобы log loss был минимальным"
   ]
  },
  {
   "cell_type": "code",
   "execution_count": 12,
   "metadata": {},
   "outputs": [],
   "source": [
    "def eval_model_par(X, y, alpha=1e-4):\n",
    "    np.random.seed(42)\n",
    "    W = np.random.randn(X.shape[0])\n",
    "    n = X.shape[1]\n",
    "    i = 0\n",
    "    delta = 1e-6\n",
    "    err_prev = 0\n",
    "    \n",
    "    while True:\n",
    "        z = np.dot(W, X)\n",
    "        y_pred = sigmoid(z)\n",
    "        err = calc_logloss(y, y_pred)\n",
    "        W -= alpha * (1/n * np.dot((y_pred - y), X.T))\n",
    "            \n",
    "        if abs(err_prev - err) <= delta:\n",
    "            return(i, W, err)\n",
    "        else:\n",
    "            err_prev = err\n",
    "            i += 1\n",
    "    return W"
   ]
  },
  {
   "cell_type": "code",
   "execution_count": 13,
   "metadata": {},
   "outputs": [
    {
     "name": "stdout",
     "output_type": "stream",
     "text": [
      "Шаг: 1\tИтераций: 81377\talpha: 0.000010\tW: [ 0.45931561 -0.33152393  0.47222185  1.43688168]\terr: 0.669050\n",
      "Шаг: 2\tИтераций: 91892\talpha: 0.000032\tW: [ 0.32658539 -0.70380674  0.15826404  1.34825246]\terr: 0.538843\n",
      "Шаг: 3\tИтераций: 54933\talpha: 0.000100\tW: [ 0.19648124 -0.93993678 -0.00752236  1.4361401 ]\terr: 0.494578\n",
      "Шаг: 4\tИтераций: 71451\talpha: 0.000316\tW: [ 0.06852536 -1.58113243 -0.3376027   2.38089195]\terr: 0.407093\n",
      "Шаг: 5\tИтераций: 61914\talpha: 0.001000\tW: [ 0.22314951 -2.33287877 -0.81914792  3.72969277]\terr: 0.337960\n",
      "Шаг: 6\tИтераций: 51918\talpha: 0.003162\tW: [ 0.61139074 -3.18509484 -1.68624428  5.6661775 ]\terr: 0.283801\n",
      "Шаг: 7\tИтераций: 62353\talpha: 0.010000\tW: [ 1.80353219 -4.9997408  -4.03141577 10.49930837]\terr: 0.208830\n",
      "Шаг: 8\tИтераций: 54804\talpha: 0.031623\tW: [ 3.44560411 -7.64208554 -7.24124516 17.36693305]\terr: 0.146626\n",
      "Шаг: 9\tИтераций: 38961\talpha: 0.100000\tW: [  5.12953375 -10.52471566 -10.71446945  24.88051255]\terr: 0.108765\n"
     ]
    }
   ],
   "source": [
    "step_cnt = 1\n",
    "\n",
    "for alpha in np.logspace(-5, -1, 9):\n",
    "    i, W, err = eval_model_par(X_st, y, alpha)\n",
    "    print(\"Шаг: {}\\tИтераций: {}\\talpha: {:.6f}\\tW: {}\\terr: {:.6f}\".format(step_cnt, i, alpha, W, err))\n",
    "    step_cnt += 1"
   ]
  },
  {
   "cell_type": "markdown",
   "metadata": {},
   "source": [
    "## Задание № 3"
   ]
  },
  {
   "cell_type": "markdown",
   "metadata": {},
   "source": [
    "Создайте функцию calc_pred_proba, возвращающую предсказанную вероятность класса 1 (на вход подаются W, который уже посчитан функцией eval_model и X, на выходе - массив y_pred_proba)"
   ]
  },
  {
   "cell_type": "code",
   "execution_count": 14,
   "metadata": {},
   "outputs": [],
   "source": [
    "def calc_pred_proba(W, X):\n",
    "    y_pred_proba = sigmoid(np.dot(W, X))\n",
    "    return y_pred_proba"
   ]
  },
  {
   "cell_type": "code",
   "execution_count": 15,
   "metadata": {},
   "outputs": [],
   "source": [
    "def eval_model_prb(X, y, iterations, alpha=1e-4):\n",
    "    np.random.seed(42)\n",
    "    W = np.random.randn(X.shape[0])\n",
    "    n = X.shape[1]\n",
    "    for i in range(1, iterations+1):\n",
    "        y_pred = calc_pred_proba(W, X)\n",
    "        err = calc_logloss(y, y_pred)\n",
    "        W -= alpha * (1/n * np.dot((y_pred - y), X.T))\n",
    "        if i % (iterations / 10) == 0:\n",
    "            print(\"Итерация: {}\\terr: {:.6f}\\t\\n\\ty_pred_proba: {}\\n\".format(i, err, y_pred))"
   ]
  },
  {
   "cell_type": "code",
   "execution_count": 16,
   "metadata": {},
   "outputs": [
    {
     "name": "stdout",
     "output_type": "stream",
     "text": [
      "Итерация: 100\terr: 0.651970\t\n",
      "\ty_pred_proba: [0.26077366 0.29704629 0.70512769 0.27854765 0.79761933 0.3455055\n",
      " 0.95131371 0.94061238 0.25216695 0.74979548]\n",
      "\n",
      "Итерация: 200\terr: 0.577994\t\n",
      "\ty_pred_proba: [0.31495285 0.33947089 0.71210905 0.32709382 0.74907425 0.39938268\n",
      " 0.9215123  0.84967539 0.30897457 0.73979704]\n",
      "\n",
      "Итерация: 300\terr: 0.536174\t\n",
      "\ty_pred_proba: [0.34871184 0.36283631 0.71567147 0.35574268 0.70753247 0.43121694\n",
      " 0.89227804 0.7293736  0.34522073 0.73108419]\n",
      "\n",
      "Итерация: 400\terr: 0.513665\t\n",
      "\ty_pred_proba: [0.36408686 0.37062051 0.7179813  0.36734759 0.6766449  0.44496732\n",
      " 0.87078852 0.62383767 0.36246114 0.72504222]\n",
      "\n",
      "Итерация: 500\terr: 0.499922\t\n",
      "\ty_pred_proba: [0.36763604 0.36892069 0.72032608 0.36827813 0.65516279 0.44756989\n",
      " 0.85828839 0.54908563 0.36731517 0.72171447]\n",
      "\n",
      "Итерация: 600\terr: 0.489852\t\n",
      "\ty_pred_proba: [0.36506226 0.3626048  0.72327136 0.36383264 0.64036554 0.44454173\n",
      " 0.85259981 0.49885464 0.36567774 0.72060719]\n",
      "\n",
      "Итерация: 700\terr: 0.481507\t\n",
      "\ty_pred_proba: [0.35984228 0.35453416 0.72696795 0.35718384 0.63001528 0.43914515\n",
      " 0.85127652 0.4641558  0.36117475 0.72119454]\n",
      "\n",
      "Итерация: 800\terr: 0.474149\t\n",
      "\ty_pred_proba: [0.35379048 0.34615375 0.7313706  0.3499625  0.62262254 0.43305999\n",
      " 0.85256653 0.43879919 0.35571156 0.72304667]\n",
      "\n",
      "Итерация: 900\terr: 0.467464\t\n",
      "\ty_pred_proba: [0.34776553 0.33811396 0.73635794 0.34292351 0.61724652 0.42707313\n",
      " 0.85537389 0.4191351  0.35019847 0.7258326 ]\n",
      "\n",
      "Итерация: 1000\terr: 0.461290\t\n",
      "\ty_pred_proba: [0.3421299  0.33066132 0.74179106 0.33637151 0.61329053 0.42151037\n",
      " 0.85904136 0.40308227 0.34502676 0.72930027]\n",
      "\n"
     ]
    }
   ],
   "source": [
    "eval_model_prb(X_st, y, iterations=1000, alpha=1e-2)"
   ]
  },
  {
   "cell_type": "code",
   "execution_count": 17,
   "metadata": {},
   "outputs": [
    {
     "data": {
      "text/plain": [
       "array([0.34075722, 0.00618638, 1.        , 0.05367898, 0.93626047,\n",
       "       0.02847029, 1.        , 0.01942685, 0.60942544, 0.99999992])"
      ]
     },
     "execution_count": 17,
     "metadata": {},
     "output_type": "execute_result"
    }
   ],
   "source": [
    "calc_pred_proba(W, X_st)"
   ]
  },
  {
   "cell_type": "markdown",
   "metadata": {},
   "source": [
    "## Задание № 4"
   ]
  },
  {
   "cell_type": "markdown",
   "metadata": {},
   "source": [
    "Создайте функцию calc_pred, возвращающую предсказанный класс (на вход подаются W, который уже посчитан функцией eval_model и X, на выходе - массив y_pred)"
   ]
  },
  {
   "cell_type": "code",
   "execution_count": 18,
   "metadata": {},
   "outputs": [],
   "source": [
    "def calc_pred(W, X):\n",
    "    y_pred_tmp = sigmoid(np.dot(W, X))\n",
    "    y_pred = np.zeros(y_pred_tmp.shape[0]) \n",
    "\n",
    "    for i in range(y_pred_tmp.shape[0]):\n",
    "        if (y_pred_tmp[i] > 0.5): \n",
    "            y_pred[i] = 1\n",
    "        else:\n",
    "            y_pred[i] = 0\n",
    "    \n",
    "    return y_pred"
   ]
  },
  {
   "cell_type": "code",
   "execution_count": 19,
   "metadata": {},
   "outputs": [
    {
     "data": {
      "text/plain": [
       "array([0., 0., 1., 0., 1., 0., 1., 0., 1., 1.])"
      ]
     },
     "execution_count": 19,
     "metadata": {},
     "output_type": "execute_result"
    }
   ],
   "source": [
    "calc_pred(W, X_st)"
   ]
  },
  {
   "cell_type": "markdown",
   "metadata": {},
   "source": [
    "## Задание № 5"
   ]
  },
  {
   "cell_type": "markdown",
   "metadata": {},
   "source": [
    "Посчитайте Accuracy, матрицу ошибок, точность и полноту, а также F1 score"
   ]
  },
  {
   "cell_type": "code",
   "execution_count": 89,
   "metadata": {},
   "outputs": [
    {
     "data": {
      "text/plain": [
       "(array([0., 0., 1., 0., 1., 0., 1., 0., 1., 1.]),\n",
       " array([0., 1., 0., 0., 1., 1., 1., 0., 1., 1.]))"
      ]
     },
     "execution_count": 89,
     "metadata": {},
     "output_type": "execute_result"
    }
   ],
   "source": [
    "y_pr = np.array([0, 1, 0, 0, 1, 1, 1, 0, 1, 1], dtype = np.float64)\n",
    "y, y_pr"
   ]
  },
  {
   "cell_type": "code",
   "execution_count": 90,
   "metadata": {},
   "outputs": [],
   "source": [
    "def Accuracy(y, y_pr):\n",
    "    acc = 0\n",
    "    for y_i, y_pr_i in zip(y, y_pr):\n",
    "        if y_i == y_pr_i:\n",
    "            acc += 1\n",
    "    return acc/y.shape[0]"
   ]
  },
  {
   "cell_type": "code",
   "execution_count": 91,
   "metadata": {},
   "outputs": [
    {
     "data": {
      "text/plain": [
       "1.0"
      ]
     },
     "execution_count": 91,
     "metadata": {},
     "output_type": "execute_result"
    }
   ],
   "source": [
    "Accuracy(y, calc_pred(W, X_st))"
   ]
  },
  {
   "cell_type": "code",
   "execution_count": 92,
   "metadata": {},
   "outputs": [
    {
     "data": {
      "text/plain": [
       "0.7"
      ]
     },
     "execution_count": 92,
     "metadata": {},
     "output_type": "execute_result"
    }
   ],
   "source": [
    "Accuracy(y, y_pr)"
   ]
  },
  {
   "cell_type": "code",
   "execution_count": 101,
   "metadata": {},
   "outputs": [],
   "source": [
    "def Confusion_Matrix(y, y_pr, prn = False):\n",
    "    tp = tn = fp = fn = 0\n",
    "    for y_i, y_pr_i in zip(y, y_pr):\n",
    "        if y_pr_i == 1:\n",
    "            if y_i == y_pr_i:\n",
    "                tp += 1\n",
    "            else:\n",
    "                fp += 1\n",
    "        else:\n",
    "            if y_i == y_pr_i:\n",
    "                tn += 1\n",
    "            else:\n",
    "                fn += 1\n",
    "\n",
    "    if prn:\n",
    "        print(\"\\ty=1\\ty=0\")\n",
    "        print(\"f=1\\t{}\\t{}\".format(tp, fp))\n",
    "        print(\"f=0\\t{}\\t{}\".format(fn, tn))\n",
    "    else:\n",
    "        return tp, tn, fp, fn"
   ]
  },
  {
   "cell_type": "code",
   "execution_count": 102,
   "metadata": {},
   "outputs": [
    {
     "name": "stdout",
     "output_type": "stream",
     "text": [
      "\ty=1\ty=0\n",
      "f=1\t4\t2\n",
      "f=0\t1\t3\n"
     ]
    }
   ],
   "source": [
    "Confusion_Matrix(y, y_pr, True)"
   ]
  },
  {
   "cell_type": "code",
   "execution_count": 107,
   "metadata": {},
   "outputs": [],
   "source": [
    "def Precision(y, y_pr, prn = False):\n",
    "    tp, tn, fp, fn = Confusion_Matrix(y, y_pr)\n",
    "    \n",
    "    precision = tp/(tp + fp)\n",
    "    \n",
    "    if prn:\n",
    "        print(\"precision = {:.4f}\".format(precision))\n",
    "    else:\n",
    "        return precision"
   ]
  },
  {
   "cell_type": "code",
   "execution_count": 114,
   "metadata": {},
   "outputs": [
    {
     "name": "stdout",
     "output_type": "stream",
     "text": [
      "precision = 0.6667\n"
     ]
    }
   ],
   "source": [
    "Precision(y, y_pr, True)"
   ]
  },
  {
   "cell_type": "code",
   "execution_count": 115,
   "metadata": {},
   "outputs": [],
   "source": [
    "def Recall(y, y_pr, prn = False):\n",
    "    tp, tn, fp, fn = Confusion_Matrix(y, y_pr)\n",
    "    \n",
    "    recall = tp/(tp + fn)\n",
    "    \n",
    "    if prn:\n",
    "        print(\"recall = {:.4f}\".format(recall))\n",
    "    else:\n",
    "        return recall"
   ]
  },
  {
   "cell_type": "code",
   "execution_count": 117,
   "metadata": {},
   "outputs": [
    {
     "name": "stdout",
     "output_type": "stream",
     "text": [
      "recall = 0.8000\n"
     ]
    }
   ],
   "source": [
    "Recall(y, y_pr, True)"
   ]
  },
  {
   "cell_type": "code",
   "execution_count": 118,
   "metadata": {},
   "outputs": [],
   "source": [
    "def F1(y, y_pr, prn = False):\n",
    "    precision = Precision(y, y_pr)\n",
    "    recall = Recall(y, y_pr)\n",
    "    \n",
    "    f1 = 2*precision*recall/(precision + recall)\n",
    "    \n",
    "    if prn:\n",
    "        print(\"f1 score = {:.4f}\".format(f1))\n",
    "    else:\n",
    "        return f1"
   ]
  },
  {
   "cell_type": "code",
   "execution_count": 119,
   "metadata": {},
   "outputs": [
    {
     "name": "stdout",
     "output_type": "stream",
     "text": [
      "f1 score = 0.7273\n"
     ]
    }
   ],
   "source": [
    "F1(y, y_pr, True)"
   ]
  },
  {
   "cell_type": "markdown",
   "metadata": {},
   "source": [
    "## Задание № 6"
   ]
  },
  {
   "cell_type": "markdown",
   "metadata": {},
   "source": [
    "Могла ли модель переобучиться? Почему?"
   ]
  },
  {
   "cell_type": "markdown",
   "metadata": {},
   "source": [
    "Моделm может переобучаться т.к. есть корреляция между входными параметрами."
   ]
  },
  {
   "cell_type": "markdown",
   "metadata": {},
   "source": [
    "## Задание № 7"
   ]
  },
  {
   "cell_type": "markdown",
   "metadata": {},
   "source": [
    "Создайте функции eval_model_l1 и eval_model_l2 с применением L1 и L2 регуляризаций соответственно"
   ]
  },
  {
   "cell_type": "code",
   "execution_count": 23,
   "metadata": {},
   "outputs": [],
   "source": [
    "def eval_model_l1():\n",
    "    \n",
    "    return 1"
   ]
  },
  {
   "cell_type": "code",
   "execution_count": 24,
   "metadata": {},
   "outputs": [],
   "source": [
    "def eval_model_l2():\n",
    "    \n",
    "    return 1"
   ]
  },
  {
   "cell_type": "code",
   "execution_count": null,
   "metadata": {},
   "outputs": [],
   "source": []
  }
 ],
 "metadata": {
  "kernelspec": {
   "display_name": "Python 3",
   "language": "python",
   "name": "python3"
  },
  "language_info": {
   "codemirror_mode": {
    "name": "ipython",
    "version": 3
   },
   "file_extension": ".py",
   "mimetype": "text/x-python",
   "name": "python",
   "nbconvert_exporter": "python",
   "pygments_lexer": "ipython3",
   "version": "3.7.4"
  }
 },
 "nbformat": 4,
 "nbformat_minor": 2
}
